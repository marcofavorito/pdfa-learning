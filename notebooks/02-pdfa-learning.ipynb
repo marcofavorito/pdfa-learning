{
 "cells": [
  {
   "cell_type": "markdown",
   "metadata": {
    "collapsed": true,
    "pycharm": {
     "name": "#%% md\n"
    }
   },
   "source": [
    "## PDFA Learning\n",
    "\n",
    "In this notebook, we will show how to\n",
    "use the implementation of PDFA learning,\n",
    "as described in \\[1\\].\n",
    "\n",
    "### Example\n",
    "\n",
    "Utility functions to display SVGs."
   ]
  },
  {
   "cell_type": "code",
   "execution_count": 1,
   "outputs": [],
   "source": [
    "%matplotlib inline\n",
    "from pprint import pprint\n",
    "from src.learn_pdfa.base import learn_pdfa\n",
    "from src.learn_pdfa.common import MultiprocessedGenerator\n",
    "import tempfile\n",
    "from pathlib import Path\n",
    "from IPython.core.display import display, HTML, SVG\n",
    "from src.pdfa import PDFA\n",
    "from src.pdfa.render import to_graphviz\n",
    "\n",
    "_default_svg_style = \"display: block; margin-left: auto; margin-right: auto; width: 50%;\"\n",
    "def display_svgs(*filenames, style=_default_svg_style):\n",
    "    svgs = [SVG(filename=f).data for f in filenames]\n",
    "    joined_svgs = \"\".join(svgs)\n",
    "    no_wrap_div = f'<div style=\"{style}white-space: nowrap\">{joined_svgs}</div>'\n",
    "    display(HTML(no_wrap_div))\n",
    "\n",
    "def render_automaton(pdfa: PDFA):\n",
    "    digraph = to_graphviz(automaton)\n",
    "    tmp_dir = tempfile.mkdtemp()\n",
    "    tmp_filepath = str(Path(tmp_dir, \"output\"))\n",
    "    digraph.render(tmp_filepath)\n",
    "    display_svgs(tmp_filepath + \".svg\")"
   ],
   "metadata": {
    "collapsed": false,
    "pycharm": {
     "name": "#%%\n"
    }
   }
  },
  {
   "cell_type": "markdown",
   "source": [
    "## Example with 1 state.\n",
    "\n",
    "Let's use the following automaton to generate samples."
   ],
   "metadata": {
    "collapsed": false,
    "pycharm": {
     "name": "#%% md\n"
    }
   }
  },
  {
   "cell_type": "code",
   "execution_count": 2,
   "outputs": [
    {
     "name": "stderr",
     "output_type": "stream",
     "text": [
      "[2020-10-04 17:30:09,127][graphviz.files][DEBUG] write 148 bytes to '/tmp/tmpiaz6vifl/output'\n",
      "[2020-10-04 17:30:09,128][graphviz.backend][DEBUG] run ['dot', '-Tsvg', '-O', 'output']\n"
     ]
    },
    {
     "data": {
      "text/plain": "<IPython.core.display.HTML object>",
      "text/html": "<div style=\"display: block; margin-left: auto; margin-right: auto; width: 50%;white-space: nowrap\"><svg height=\"212pt\" viewBox=\"0.00 0.00 112.00 212.00\" width=\"112pt\" xmlns=\"http://www.w3.org/2000/svg\" xmlns:xlink=\"http://www.w3.org/1999/xlink\">\n<g class=\"graph\" id=\"graph0\" transform=\"scale(1 1) rotate(0) translate(4 208)\">\n<title>%3</title>\n<polygon fill=\"#ffffff\" points=\"-4,4 -4,-208 108,-208 108,4 -4,4\" stroke=\"transparent\"/>\n<!-- fake -->\n<g class=\"node\" id=\"node1\">\n<title>fake</title>\n</g>\n<!-- 0 -->\n<g class=\"node\" id=\"node2\">\n<title>0</title>\n<ellipse cx=\"27\" cy=\"-113\" fill=\"none\" rx=\"27\" ry=\"18\" stroke=\"#000000\"/>\n<text fill=\"#000000\" font-family=\"Times,serif\" font-size=\"14.00\" text-anchor=\"middle\" x=\"27\" y=\"-109.3\">0</text>\n</g>\n<!-- fake&#45;&gt;0 -->\n<g class=\"edge\" id=\"edge1\">\n<title>fake-&gt;0</title>\n<path d=\"M27,-167.9551C27,-159.8828 27,-150.1764 27,-141.1817\" fill=\"none\" stroke=\"#000000\" stroke-width=\"2\"/>\n<polygon fill=\"#000000\" points=\"30.5001,-141.0903 27,-131.0904 23.5001,-141.0904 30.5001,-141.0903\" stroke=\"#000000\" stroke-width=\"2\"/>\n</g>\n<!-- 0&#45;&gt;0 -->\n<g class=\"edge\" id=\"edge2\">\n<title>0-&gt;0</title>\n<path d=\"M52.4435,-119.6907C63.0278,-120.1521 72,-117.9219 72,-113 72,-109.77 68.136,-107.6992 62.4881,-106.7876\" fill=\"none\" stroke=\"#000000\"/>\n<polygon fill=\"#000000\" points=\"62.5987,-103.289 52.4435,-106.3093 62.2656,-110.2811 62.5987,-103.289\" stroke=\"#000000\"/>\n<text fill=\"#000000\" font-family=\"Times,serif\" font-size=\"14.00\" text-anchor=\"middle\" x=\"88\" y=\"-109.3\">0, 0.3</text>\n</g>\n<!-- 1 -->\n<g class=\"node\" id=\"node3\">\n<title>1</title>\n<ellipse cx=\"27\" cy=\"-22\" fill=\"none\" rx=\"18\" ry=\"18\" stroke=\"#000000\"/>\n<ellipse cx=\"27\" cy=\"-22\" fill=\"none\" rx=\"22\" ry=\"22\" stroke=\"#000000\"/>\n<text fill=\"#000000\" font-family=\"Times,serif\" font-size=\"14.00\" text-anchor=\"middle\" x=\"27\" y=\"-18.3\">1</text>\n</g>\n<!-- 0&#45;&gt;1 -->\n<g class=\"edge\" id=\"edge3\">\n<title>0-&gt;1</title>\n<path d=\"M27,-94.5848C27,-83.1105 27,-68.0231 27,-54.5774\" fill=\"none\" stroke=\"#000000\"/>\n<polygon fill=\"#000000\" points=\"30.5001,-54.2465 27,-44.2465 23.5001,-54.2466 30.5001,-54.2465\" stroke=\"#000000\"/>\n<text fill=\"#000000\" font-family=\"Times,serif\" font-size=\"14.00\" text-anchor=\"middle\" x=\"43\" y=\"-65.8\">1, 0.7</text>\n</g>\n</g>\n</svg></div>"
     },
     "metadata": {},
     "output_type": "display_data"
    }
   ],
   "source": [
    "p = 0.3\n",
    "automaton = PDFA(\n",
    "    nb_states=1,\n",
    "    alphabet_size=2,\n",
    "    transition_dict={\n",
    "        0: {\n",
    "            0: (0, p),\n",
    "            1: (1, 1 - p),\n",
    "        }\n",
    "    }\n",
    ")\n",
    "render_automaton(automaton)"
   ],
   "metadata": {
    "collapsed": false,
    "pycharm": {
     "name": "#%%\n"
    }
   }
  },
  {
   "cell_type": "markdown",
   "source": [
    "Now we will run the PAC learning algorithm\n",
    "to learn the above automaton.\n",
    "\n",
    "- `MultiprocessedGenerator` wraps the automaton and generates\n",
    "  samples using multiple processes;\n",
    "- `learn_pdfa` is the main entrypoint of the algorithm implementation.\n",
    "- `n1_max_debug` is the maximum number for $N_1$ (for the subgraph learning)\n",
    "- `n2_max_debug` is the maximum number for $N_2$ (for the probabilities learning)\n",
    "- `m0_max_debug` is the maximum number for $m_0$ (for multiset filtering)"
   ],
   "metadata": {
    "collapsed": false,
    "pycharm": {
     "name": "#%% md\n"
    }
   }
  },
  {
   "cell_type": "code",
   "execution_count": 7,
   "outputs": [
    {
     "name": "stderr",
     "output_type": "stream",
     "text": [
      "[2020-10-04 17:32:08,897][src.learn_pdfa][INFO] Parameters: ('_Params(sample_generator=<src.learn_pdfa.common.MultiprocessedGenerator '\n",
      " 'object at 0x7f5c2be78ed0>, alphabet_size=2, epsilon=0.2, delta_1=0.2, '\n",
      " 'delta_2=0.2, mu=0.1, n=3, m0_max_debug=10000.0, n1_max_debug=100000, '\n",
      " 'n2_max_debug=100000)')\n",
      "[2020-10-04 17:32:08,899][src.learn_pdfa][INFO] N1 = 54432.579348157145, N2 = 55998960.0. Chosen: 55998960\n",
      "[2020-10-04 17:32:08,900][src.learn_pdfa][INFO] m0 = 466658\n",
      "[2020-10-04 17:32:08,901][src.learn_pdfa][INFO] N = 55998960\n",
      "[2020-10-04 17:32:08,901][src.learn_pdfa][INFO] using m0 = 10000.0, N = 100000\n",
      "[2020-10-04 17:32:10,078][src.learn_pdfa][INFO] Sampling done.\n",
      "[2020-10-04 17:32:10,079][src.learn_pdfa][INFO] Number of samples: 100000.\n",
      "[2020-10-04 17:32:10,083][src.learn_pdfa][INFO] Avg. length of samples: 1.4224.\n",
      "[2020-10-04 17:32:10,209][src.learn_pdfa][INFO] Iteration 0\n",
      "[2020-10-04 17:32:10,359][src.learn_pdfa][INFO] Iteration 1\n",
      "[2020-10-04 17:32:10,448][src.learn_pdfa][INFO] Iteration 2\n",
      "[2020-10-04 17:32:10,509][src.learn_pdfa][INFO] Computed final node: 1 (no outgoing transitions)\n",
      "[2020-10-04 17:32:10,510][src.learn_pdfa][INFO] Renamed vertices: {0, 1}\n",
      "[2020-10-04 17:32:10,510][src.learn_pdfa][INFO] Renamed transitions: {0: {0: 0, 1: 1}}\n",
      "[2020-10-04 17:32:10,514][src.learn_pdfa][INFO] Number of vertices: 2.\n",
      "[2020-10-04 17:32:10,515][src.learn_pdfa][INFO] Transitions: {0: {0: 0, 1: 1}}.\n",
      "[2020-10-04 17:32:10,515][src.learn_pdfa][INFO] Start learning probabilities.\n",
      "[2020-10-04 17:32:10,515][src.learn_pdfa][INFO] Sample size: 21734484183613.\n",
      "[2020-10-04 17:32:10,516][src.learn_pdfa][INFO] Using N = 100000.\n",
      "[2020-10-04 17:32:12,336][src.learn_pdfa][INFO] Removing final state from the set of vertices.\n",
      "[2020-10-04 17:32:12,337][src.learn_pdfa][INFO] Computed vertices: {0}\n",
      "[2020-10-04 17:32:12,338][src.learn_pdfa][INFO] Computed transition dictionary: {0: {0: (0, 0.3002295247158932), 1: (1, 0.6997704752841069)}}\n"
     ]
    }
   ],
   "source": [
    "generator = MultiprocessedGenerator(automaton, nb_processes=8)\n",
    "\n",
    "pdfa = learn_pdfa(\n",
    "    sample_generator=generator,\n",
    "    alphabet_size=2,\n",
    "    epsilon=0.2,\n",
    "    delta_1=0.2,\n",
    "    delta_2=0.2,\n",
    "    mu=0.1,\n",
    "    n=3,\n",
    "    n1_max_debug=100000,\n",
    "    n2_max_debug=100000,\n",
    "    m0_max_debug=100000 / 10,\n",
    ")"
   ],
   "metadata": {
    "collapsed": false,
    "pycharm": {
     "name": "#%%\n"
    }
   }
  },
  {
   "cell_type": "markdown",
   "source": [
    "The learned automaton is:"
   ],
   "metadata": {
    "collapsed": false,
    "pycharm": {
     "name": "#%% md\n"
    }
   }
  },
  {
   "cell_type": "code",
   "execution_count": 8,
   "outputs": [
    {
     "name": "stderr",
     "output_type": "stream",
     "text": [
      "[2020-10-04 17:32:27,330][graphviz.files][DEBUG] write 148 bytes to '/tmp/tmplcjmh_3y/output'\n",
      "[2020-10-04 17:32:27,332][graphviz.backend][DEBUG] run ['dot', '-Tsvg', '-O', 'output']\n"
     ]
    },
    {
     "name": "stdout",
     "output_type": "stream",
     "text": [
      "Transitions: \n",
      "{(0, 0, 0.3002295247158932, 0), (0, 1, 0.6997704752841069, 1)}\n"
     ]
    },
    {
     "data": {
      "text/plain": "<IPython.core.display.HTML object>",
      "text/html": "<div style=\"display: block; margin-left: auto; margin-right: auto; width: 50%;white-space: nowrap\"><svg height=\"212pt\" viewBox=\"0.00 0.00 112.00 212.00\" width=\"112pt\" xmlns=\"http://www.w3.org/2000/svg\" xmlns:xlink=\"http://www.w3.org/1999/xlink\">\n<g class=\"graph\" id=\"graph0\" transform=\"scale(1 1) rotate(0) translate(4 208)\">\n<title>%3</title>\n<polygon fill=\"#ffffff\" points=\"-4,4 -4,-208 108,-208 108,4 -4,4\" stroke=\"transparent\"/>\n<!-- fake -->\n<g class=\"node\" id=\"node1\">\n<title>fake</title>\n</g>\n<!-- 0 -->\n<g class=\"node\" id=\"node2\">\n<title>0</title>\n<ellipse cx=\"27\" cy=\"-113\" fill=\"none\" rx=\"27\" ry=\"18\" stroke=\"#000000\"/>\n<text fill=\"#000000\" font-family=\"Times,serif\" font-size=\"14.00\" text-anchor=\"middle\" x=\"27\" y=\"-109.3\">0</text>\n</g>\n<!-- fake&#45;&gt;0 -->\n<g class=\"edge\" id=\"edge1\">\n<title>fake-&gt;0</title>\n<path d=\"M27,-167.9551C27,-159.8828 27,-150.1764 27,-141.1817\" fill=\"none\" stroke=\"#000000\" stroke-width=\"2\"/>\n<polygon fill=\"#000000\" points=\"30.5001,-141.0903 27,-131.0904 23.5001,-141.0904 30.5001,-141.0903\" stroke=\"#000000\" stroke-width=\"2\"/>\n</g>\n<!-- 0&#45;&gt;0 -->\n<g class=\"edge\" id=\"edge2\">\n<title>0-&gt;0</title>\n<path d=\"M52.4435,-119.6907C63.0278,-120.1521 72,-117.9219 72,-113 72,-109.77 68.136,-107.6992 62.4881,-106.7876\" fill=\"none\" stroke=\"#000000\"/>\n<polygon fill=\"#000000\" points=\"62.5987,-103.289 52.4435,-106.3093 62.2656,-110.2811 62.5987,-103.289\" stroke=\"#000000\"/>\n<text fill=\"#000000\" font-family=\"Times,serif\" font-size=\"14.00\" text-anchor=\"middle\" x=\"88\" y=\"-109.3\">0, 0.3</text>\n</g>\n<!-- 1 -->\n<g class=\"node\" id=\"node3\">\n<title>1</title>\n<ellipse cx=\"27\" cy=\"-22\" fill=\"none\" rx=\"18\" ry=\"18\" stroke=\"#000000\"/>\n<ellipse cx=\"27\" cy=\"-22\" fill=\"none\" rx=\"22\" ry=\"22\" stroke=\"#000000\"/>\n<text fill=\"#000000\" font-family=\"Times,serif\" font-size=\"14.00\" text-anchor=\"middle\" x=\"27\" y=\"-18.3\">1</text>\n</g>\n<!-- 0&#45;&gt;1 -->\n<g class=\"edge\" id=\"edge3\">\n<title>0-&gt;1</title>\n<path d=\"M27,-94.5848C27,-83.1105 27,-68.0231 27,-54.5774\" fill=\"none\" stroke=\"#000000\"/>\n<polygon fill=\"#000000\" points=\"30.5001,-54.2465 27,-44.2465 23.5001,-54.2466 30.5001,-54.2465\" stroke=\"#000000\"/>\n<text fill=\"#000000\" font-family=\"Times,serif\" font-size=\"14.00\" text-anchor=\"middle\" x=\"43\" y=\"-65.8\">1, 0.7</text>\n</g>\n</g>\n</svg></div>"
     },
     "metadata": {},
     "output_type": "display_data"
    }
   ],
   "source": [
    "print(\"Transitions: \")\n",
    "pprint(pdfa.transitions)\n",
    "render_automaton(pdfa)"
   ],
   "metadata": {
    "collapsed": false,
    "pycharm": {
     "name": "#%%\n"
    }
   }
  },
  {
   "cell_type": "markdown",
   "source": [
    "## Example with 2 states.\n",
    "\n",
    "Now let's try to learn the following automaton:"
   ],
   "metadata": {
    "collapsed": false
   }
  },
  {
   "cell_type": "code",
   "execution_count": 9,
   "outputs": [
    {
     "name": "stderr",
     "output_type": "stream",
     "text": [
      "[2020-10-04 17:32:36,415][graphviz.files][DEBUG] write 201 bytes to '/tmp/tmp4oc3458o/output'\n",
      "[2020-10-04 17:32:36,417][graphviz.backend][DEBUG] run ['dot', '-Tsvg', '-O', 'output']\n"
     ]
    },
    {
     "data": {
      "text/plain": "<IPython.core.display.HTML object>",
      "text/html": "<div style=\"display: block; margin-left: auto; margin-right: auto; width: 50%;white-space: nowrap\"><svg height=\"299pt\" viewBox=\"0.00 0.00 156.00 299.00\" width=\"156pt\" xmlns=\"http://www.w3.org/2000/svg\" xmlns:xlink=\"http://www.w3.org/1999/xlink\">\n<g class=\"graph\" id=\"graph0\" transform=\"scale(1 1) rotate(0) translate(4 295)\">\n<title>%3</title>\n<polygon fill=\"#ffffff\" points=\"-4,4 -4,-295 152,-295 152,4 -4,4\" stroke=\"transparent\"/>\n<!-- fake -->\n<g class=\"node\" id=\"node1\">\n<title>fake</title>\n</g>\n<!-- 0 -->\n<g class=\"node\" id=\"node2\">\n<title>0</title>\n<ellipse cx=\"111\" cy=\"-200\" fill=\"none\" rx=\"27\" ry=\"18\" stroke=\"#000000\"/>\n<text fill=\"#000000\" font-family=\"Times,serif\" font-size=\"14.00\" text-anchor=\"middle\" x=\"111\" y=\"-196.3\">0</text>\n</g>\n<!-- fake&#45;&gt;0 -->\n<g class=\"edge\" id=\"edge1\">\n<title>fake-&gt;0</title>\n<path d=\"M111,-254.9551C111,-246.8828 111,-237.1764 111,-228.1817\" fill=\"none\" stroke=\"#000000\" stroke-width=\"2\"/>\n<polygon fill=\"#000000\" points=\"114.5001,-228.0903 111,-218.0904 107.5001,-228.0904 114.5001,-228.0903\" stroke=\"#000000\" stroke-width=\"2\"/>\n</g>\n<!-- 1 -->\n<g class=\"node\" id=\"node3\">\n<title>1</title>\n<ellipse cx=\"27\" cy=\"-113\" fill=\"none\" rx=\"27\" ry=\"18\" stroke=\"#000000\"/>\n<text fill=\"#000000\" font-family=\"Times,serif\" font-size=\"14.00\" text-anchor=\"middle\" x=\"27\" y=\"-109.3\">1</text>\n</g>\n<!-- 0&#45;&gt;1 -->\n<g class=\"edge\" id=\"edge3\">\n<title>0-&gt;1</title>\n<path d=\"M96.3683,-184.8458C83.3193,-171.3307 64.0274,-151.3498 49.0987,-135.8879\" fill=\"none\" stroke=\"#000000\"/>\n<polygon fill=\"#000000\" points=\"51.2097,-133.0354 41.7459,-128.2725 46.1739,-137.8976 51.2097,-133.0354\" stroke=\"#000000\"/>\n<text fill=\"#000000\" font-family=\"Times,serif\" font-size=\"14.00\" text-anchor=\"middle\" x=\"91\" y=\"-152.8\">0, 0.4</text>\n</g>\n<!-- 2 -->\n<g class=\"node\" id=\"node4\">\n<title>2</title>\n<ellipse cx=\"83\" cy=\"-22\" fill=\"none\" rx=\"18\" ry=\"18\" stroke=\"#000000\"/>\n<ellipse cx=\"83\" cy=\"-22\" fill=\"none\" rx=\"22\" ry=\"22\" stroke=\"#000000\"/>\n<text fill=\"#000000\" font-family=\"Times,serif\" font-size=\"14.00\" text-anchor=\"middle\" x=\"83\" y=\"-18.3\">2</text>\n</g>\n<!-- 0&#45;&gt;2 -->\n<g class=\"edge\" id=\"edge4\">\n<title>0-&gt;2</title>\n<path d=\"M113.65,-181.9609C116.2183,-160.8793 118.9339,-125.0503 113,-95 110.0175,-79.8961 103.8739,-63.988 97.9187,-50.8913\" fill=\"none\" stroke=\"#000000\"/>\n<polygon fill=\"#000000\" points=\"100.9046,-49.0193 93.4569,-41.484 94.5799,-52.0192 100.9046,-49.0193\" stroke=\"#000000\"/>\n<text fill=\"#000000\" font-family=\"Times,serif\" font-size=\"14.00\" text-anchor=\"middle\" x=\"132\" y=\"-109.3\">1, 0.6</text>\n</g>\n<!-- 1&#45;&gt;1 -->\n<g class=\"edge\" id=\"edge2\">\n<title>1-&gt;1</title>\n<path d=\"M51.5325,-120.752C62.5078,-121.4902 72,-118.9063 72,-113 72,-109.0317 67.7151,-106.5632 61.5743,-105.5944\" fill=\"none\" stroke=\"#000000\"/>\n<polygon fill=\"#000000\" points=\"61.6472,-102.0949 51.5325,-105.248 61.4059,-109.0908 61.6472,-102.0949\" stroke=\"#000000\"/>\n<text fill=\"#000000\" font-family=\"Times,serif\" font-size=\"14.00\" text-anchor=\"middle\" x=\"88\" y=\"-109.3\">1, 0.7</text>\n</g>\n<!-- 1&#45;&gt;2 -->\n<g class=\"edge\" id=\"edge5\">\n<title>1-&gt;2</title>\n<path d=\"M37.2713,-96.3092C45.3482,-83.1842 56.7687,-64.6259 66.1757,-49.3394\" fill=\"none\" stroke=\"#000000\"/>\n<polygon fill=\"#000000\" points=\"69.1811,-51.1338 71.4413,-40.7828 63.2195,-47.4651 69.1811,-51.1338\" stroke=\"#000000\"/>\n<text fill=\"#000000\" font-family=\"Times,serif\" font-size=\"14.00\" text-anchor=\"middle\" x=\"75\" y=\"-65.8\">0, 0.3</text>\n</g>\n</g>\n</svg></div>"
     },
     "metadata": {},
     "output_type": "display_data"
    }
   ],
   "source": [
    "p1 = 0.4\n",
    "p2 = 0.7\n",
    "automaton = PDFA(\n",
    "    2,\n",
    "    2,\n",
    "    {\n",
    "        0: {\n",
    "            0: (1, p1),\n",
    "            1: (2, 1 - p1),\n",
    "        },\n",
    "        1: {\n",
    "            0: (2, 1 - p2),\n",
    "            1: (1, p2),\n",
    "        },\n",
    "    },\n",
    ")\n",
    "render_automaton(automaton)\n"
   ],
   "metadata": {
    "collapsed": false,
    "pycharm": {
     "name": "#%%\n"
    }
   }
  },
  {
   "cell_type": "code",
   "execution_count": 10,
   "outputs": [
    {
     "name": "stderr",
     "output_type": "stream",
     "text": [
      "[2020-10-04 17:32:38,910][src.learn_pdfa][INFO] Parameters: ('_Params(sample_generator=<src.learn_pdfa.common.MultiprocessedGenerator '\n",
      " 'object at 0x7f5c64a83210>, alphabet_size=2, epsilon=0.2, delta_1=0.2, '\n",
      " 'delta_2=0.2, mu=0.1, n=3, m0_max_debug=300000.0, n1_max_debug=3000000, '\n",
      " 'n2_max_debug=1000000)')\n",
      "[2020-10-04 17:32:38,912][src.learn_pdfa][INFO] N1 = 54432.579348157145, N2 = 55998960.0. Chosen: 55998960\n",
      "[2020-10-04 17:32:38,913][src.learn_pdfa][INFO] m0 = 466658\n",
      "[2020-10-04 17:32:38,915][src.learn_pdfa][INFO] N = 55998960\n",
      "[2020-10-04 17:32:38,916][src.learn_pdfa][INFO] using m0 = 300000.0, N = 3000000\n",
      "[2020-10-04 17:34:00,177][src.learn_pdfa][INFO] Sampling done.\n",
      "[2020-10-04 17:34:00,178][src.learn_pdfa][INFO] Number of samples: 3000000.\n",
      "[2020-10-04 17:34:00,259][src.learn_pdfa][INFO] Avg. length of samples: 2.33844.\n",
      "[2020-10-04 17:34:03,306][src.learn_pdfa][INFO] Iteration 0\n",
      "[2020-10-04 17:34:11,405][src.learn_pdfa][INFO] Iteration 1\n",
      "[2020-10-04 17:34:18,205][src.learn_pdfa][INFO] Iteration 2\n",
      "[2020-10-04 17:34:23,468][src.learn_pdfa][INFO] Iteration 3\n",
      "[2020-10-04 17:34:29,493][src.learn_pdfa][INFO] Iteration 4\n",
      "[2020-10-04 17:34:34,594][src.learn_pdfa][INFO] Computed final node: 1 (no outgoing transitions)\n",
      "[2020-10-04 17:34:34,595][src.learn_pdfa][INFO] Renamed vertices: {0, 1, 2}\n",
      "[2020-10-04 17:34:34,596][src.learn_pdfa][INFO] Renamed transitions: {0: {0: 1, 1: 2}, 1: {0: 2, 1: 1}}\n",
      "[2020-10-04 17:34:34,744][src.learn_pdfa][INFO] Number of vertices: 3.\n",
      "[2020-10-04 17:34:34,745][src.learn_pdfa][INFO] Transitions: {0: {0: 1, 1: 2}, 1: {0: 2, 1: 1}}.\n",
      "[2020-10-04 17:34:34,746][src.learn_pdfa][INFO] Start learning probabilities.\n",
      "[2020-10-04 17:34:34,747][src.learn_pdfa][INFO] Sample size: 21734484183613.\n",
      "[2020-10-04 17:34:34,748][src.learn_pdfa][INFO] Using N = 1000000.\n",
      "[2020-10-04 17:35:09,106][src.learn_pdfa][INFO] Removing final state from the set of vertices.\n",
      "[2020-10-04 17:35:09,107][src.learn_pdfa][INFO] Computed vertices: {0, 1}\n",
      "[2020-10-04 17:35:09,108][src.learn_pdfa][INFO] Computed transition dictionary: {0: {0: (1, 0.39876), 1: (2, 0.60124)},\n",
      " 1: {0: (2, 0.3009218732077203), 1: (1, 0.6990781267922797)}}\n"
     ]
    }
   ],
   "source": [
    "generator = MultiprocessedGenerator(automaton, nb_processes=8)\n",
    "\n",
    "pdfa = learn_pdfa(\n",
    "    sample_generator=generator,\n",
    "    alphabet_size=2,\n",
    "    epsilon=0.2,\n",
    "    delta_1=0.2,\n",
    "    delta_2=0.2,\n",
    "    mu=0.1,\n",
    "    n=3,\n",
    "    n1_max_debug=3000000,\n",
    "    n2_max_debug=1000000,\n",
    "    m0_max_debug=3000000 / 10,\n",
    ")"
   ],
   "metadata": {
    "collapsed": false,
    "pycharm": {
     "name": "#%%\n"
    }
   }
  },
  {
   "cell_type": "code",
   "execution_count": 11,
   "outputs": [
    {
     "name": "stderr",
     "output_type": "stream",
     "text": [
      "[2020-10-04 17:35:17,370][graphviz.files][DEBUG] write 201 bytes to '/tmp/tmpyopxpn2d/output'\n",
      "[2020-10-04 17:35:17,374][graphviz.backend][DEBUG] run ['dot', '-Tsvg', '-O', 'output']\n"
     ]
    },
    {
     "data": {
      "text/plain": "<IPython.core.display.HTML object>",
      "text/html": "<div style=\"display: block; margin-left: auto; margin-right: auto; width: 50%;white-space: nowrap\"><svg height=\"299pt\" viewBox=\"0.00 0.00 156.00 299.00\" width=\"156pt\" xmlns=\"http://www.w3.org/2000/svg\" xmlns:xlink=\"http://www.w3.org/1999/xlink\">\n<g class=\"graph\" id=\"graph0\" transform=\"scale(1 1) rotate(0) translate(4 295)\">\n<title>%3</title>\n<polygon fill=\"#ffffff\" points=\"-4,4 -4,-295 152,-295 152,4 -4,4\" stroke=\"transparent\"/>\n<!-- fake -->\n<g class=\"node\" id=\"node1\">\n<title>fake</title>\n</g>\n<!-- 0 -->\n<g class=\"node\" id=\"node2\">\n<title>0</title>\n<ellipse cx=\"111\" cy=\"-200\" fill=\"none\" rx=\"27\" ry=\"18\" stroke=\"#000000\"/>\n<text fill=\"#000000\" font-family=\"Times,serif\" font-size=\"14.00\" text-anchor=\"middle\" x=\"111\" y=\"-196.3\">0</text>\n</g>\n<!-- fake&#45;&gt;0 -->\n<g class=\"edge\" id=\"edge1\">\n<title>fake-&gt;0</title>\n<path d=\"M111,-254.9551C111,-246.8828 111,-237.1764 111,-228.1817\" fill=\"none\" stroke=\"#000000\" stroke-width=\"2\"/>\n<polygon fill=\"#000000\" points=\"114.5001,-228.0903 111,-218.0904 107.5001,-228.0904 114.5001,-228.0903\" stroke=\"#000000\" stroke-width=\"2\"/>\n</g>\n<!-- 1 -->\n<g class=\"node\" id=\"node3\">\n<title>1</title>\n<ellipse cx=\"27\" cy=\"-113\" fill=\"none\" rx=\"27\" ry=\"18\" stroke=\"#000000\"/>\n<text fill=\"#000000\" font-family=\"Times,serif\" font-size=\"14.00\" text-anchor=\"middle\" x=\"27\" y=\"-109.3\">1</text>\n</g>\n<!-- 0&#45;&gt;1 -->\n<g class=\"edge\" id=\"edge3\">\n<title>0-&gt;1</title>\n<path d=\"M96.3683,-184.8458C83.3193,-171.3307 64.0274,-151.3498 49.0987,-135.8879\" fill=\"none\" stroke=\"#000000\"/>\n<polygon fill=\"#000000\" points=\"51.2097,-133.0354 41.7459,-128.2725 46.1739,-137.8976 51.2097,-133.0354\" stroke=\"#000000\"/>\n<text fill=\"#000000\" font-family=\"Times,serif\" font-size=\"14.00\" text-anchor=\"middle\" x=\"91\" y=\"-152.8\">0, 0.4</text>\n</g>\n<!-- 2 -->\n<g class=\"node\" id=\"node4\">\n<title>2</title>\n<ellipse cx=\"83\" cy=\"-22\" fill=\"none\" rx=\"18\" ry=\"18\" stroke=\"#000000\"/>\n<ellipse cx=\"83\" cy=\"-22\" fill=\"none\" rx=\"22\" ry=\"22\" stroke=\"#000000\"/>\n<text fill=\"#000000\" font-family=\"Times,serif\" font-size=\"14.00\" text-anchor=\"middle\" x=\"83\" y=\"-18.3\">2</text>\n</g>\n<!-- 0&#45;&gt;2 -->\n<g class=\"edge\" id=\"edge4\">\n<title>0-&gt;2</title>\n<path d=\"M113.65,-181.9609C116.2183,-160.8793 118.9339,-125.0503 113,-95 110.0175,-79.8961 103.8739,-63.988 97.9187,-50.8913\" fill=\"none\" stroke=\"#000000\"/>\n<polygon fill=\"#000000\" points=\"100.9046,-49.0193 93.4569,-41.484 94.5799,-52.0192 100.9046,-49.0193\" stroke=\"#000000\"/>\n<text fill=\"#000000\" font-family=\"Times,serif\" font-size=\"14.00\" text-anchor=\"middle\" x=\"132\" y=\"-109.3\">1, 0.6</text>\n</g>\n<!-- 1&#45;&gt;1 -->\n<g class=\"edge\" id=\"edge2\">\n<title>1-&gt;1</title>\n<path d=\"M51.5325,-120.752C62.5078,-121.4902 72,-118.9063 72,-113 72,-109.0317 67.7151,-106.5632 61.5743,-105.5944\" fill=\"none\" stroke=\"#000000\"/>\n<polygon fill=\"#000000\" points=\"61.6472,-102.0949 51.5325,-105.248 61.4059,-109.0908 61.6472,-102.0949\" stroke=\"#000000\"/>\n<text fill=\"#000000\" font-family=\"Times,serif\" font-size=\"14.00\" text-anchor=\"middle\" x=\"88\" y=\"-109.3\">1, 0.7</text>\n</g>\n<!-- 1&#45;&gt;2 -->\n<g class=\"edge\" id=\"edge5\">\n<title>1-&gt;2</title>\n<path d=\"M37.2713,-96.3092C45.3482,-83.1842 56.7687,-64.6259 66.1757,-49.3394\" fill=\"none\" stroke=\"#000000\"/>\n<polygon fill=\"#000000\" points=\"69.1811,-51.1338 71.4413,-40.7828 63.2195,-47.4651 69.1811,-51.1338\" stroke=\"#000000\"/>\n<text fill=\"#000000\" font-family=\"Times,serif\" font-size=\"14.00\" text-anchor=\"middle\" x=\"75\" y=\"-65.8\">0, 0.3</text>\n</g>\n</g>\n</svg></div>"
     },
     "metadata": {},
     "output_type": "display_data"
    }
   ],
   "source": [
    "render_automaton(pdfa)"
   ],
   "metadata": {
    "collapsed": false,
    "pycharm": {
     "name": "#%%\n"
    }
   }
  },
  {
   "cell_type": "markdown",
   "source": [
    "## References\n",
    "\n",
    "- [1] Palmer N., Goldberg P.W. (2005)\n",
    "  PAC-Learnability of Probabilistic Deterministic\n",
    "  Finite State Automata in Terms of\n",
    "  Variation Distance.\n",
    "  In: Jain S., Simon H.U., Tomita E. (eds)\n",
    "  Algorithmic Learning Theory. ALT 2005.\n",
    "  Lecture Notes in Computer Science, vol 3734.\n",
    "  Springer, Berlin, Heidelberg.\n",
    "  https://doi.org/10.1007/11564089_14"
   ],
   "metadata": {
    "collapsed": false,
    "pycharm": {
     "name": "#%% md\n"
    }
   }
  }
 ],
 "metadata": {
  "kernelspec": {
   "display_name": "Python 3",
   "language": "python",
   "name": "python3"
  },
  "language_info": {
   "codemirror_mode": {
    "name": "ipython",
    "version": 2
   },
   "file_extension": ".py",
   "mimetype": "text/x-python",
   "name": "python",
   "nbconvert_exporter": "python",
   "pygments_lexer": "ipython2",
   "version": "2.7.6"
  }
 },
 "nbformat": 4,
 "nbformat_minor": 0
}