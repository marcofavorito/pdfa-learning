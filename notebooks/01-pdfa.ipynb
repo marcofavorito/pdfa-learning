{
 "cells": [
  {
   "cell_type": "markdown",
   "metadata": {
    "collapsed": true,
    "pycharm": {
     "name": "#%% md\n"
    }
   },
   "source": [
    "## PDFA\n",
    "\n",
    "In this notebook, we will see how to\n",
    "use the `PDFA` class.\n",
    "\n",
    "### Example\n",
    "\n",
    "Utility functions to display SVGs."
   ]
  },
  {
   "cell_type": "code",
   "execution_count": 6,
   "outputs": [],
   "source": [
    "import numpy as np\n",
    "%matplotlib inline\n",
    "import tempfile\n",
    "from pathlib import Path\n",
    "from IPython.core.display import display, HTML, SVG\n",
    "from src.pdfa import PDFA\n",
    "from src.pdfa.render import to_graphviz\n",
    "\n",
    "_default_svg_style = \"display: block; margin-left: auto; margin-right: auto; width: 50%;\"\n",
    "def display_svgs(*filenames, style=_default_svg_style):\n",
    "    svgs = [SVG(filename=f).data for f in filenames]\n",
    "    joined_svgs = \"\".join(svgs)\n",
    "    no_wrap_div = f'<div style=\"{style}white-space: nowrap\">{joined_svgs}</div>'\n",
    "    display(HTML(no_wrap_div))\n",
    "\n",
    "def render_automaton(pdfa: PDFA):\n",
    "    digraph = to_graphviz(automaton)\n",
    "    tmp_dir = tempfile.mkdtemp()\n",
    "    tmp_filepath = str(Path(tmp_dir, \"output\"))\n",
    "    digraph.render(tmp_filepath)\n",
    "    display_svgs(tmp_filepath + \".svg\")"
   ],
   "metadata": {
    "collapsed": false,
    "pycharm": {
     "name": "#%%\n"
    }
   }
  },
  {
   "cell_type": "markdown",
   "source": [
    "The following automaton captures all the\n",
    "sequences of _only_ heads, followed by one tail."
   ],
   "metadata": {
    "collapsed": false,
    "pycharm": {
     "name": "#%% md\n"
    }
   }
  },
  {
   "cell_type": "code",
   "execution_count": 7,
   "outputs": [
    {
     "data": {
      "text/plain": "<IPython.core.display.HTML object>",
      "text/html": "<div style=\"display: block; margin-left: auto; margin-right: auto; width: 50%;white-space: nowrap\"><svg height=\"212pt\" viewBox=\"0.00 0.00 112.00 212.00\" width=\"112pt\" xmlns=\"http://www.w3.org/2000/svg\" xmlns:xlink=\"http://www.w3.org/1999/xlink\">\n<g class=\"graph\" id=\"graph0\" transform=\"scale(1 1) rotate(0) translate(4 208)\">\n<title>%3</title>\n<polygon fill=\"#ffffff\" points=\"-4,4 -4,-208 108,-208 108,4 -4,4\" stroke=\"transparent\"/>\n<!-- fake -->\n<g class=\"node\" id=\"node1\">\n<title>fake</title>\n</g>\n<!-- 0 -->\n<g class=\"node\" id=\"node2\">\n<title>0</title>\n<ellipse cx=\"27\" cy=\"-113\" fill=\"none\" rx=\"27\" ry=\"18\" stroke=\"#000000\"/>\n<text fill=\"#000000\" font-family=\"Times,serif\" font-size=\"14.00\" text-anchor=\"middle\" x=\"27\" y=\"-109.3\">0</text>\n</g>\n<!-- fake&#45;&gt;0 -->\n<g class=\"edge\" id=\"edge1\">\n<title>fake-&gt;0</title>\n<path d=\"M27,-167.9551C27,-159.8828 27,-150.1764 27,-141.1817\" fill=\"none\" stroke=\"#000000\" stroke-width=\"2\"/>\n<polygon fill=\"#000000\" points=\"30.5001,-141.0903 27,-131.0904 23.5001,-141.0904 30.5001,-141.0903\" stroke=\"#000000\" stroke-width=\"2\"/>\n</g>\n<!-- 0&#45;&gt;0 -->\n<g class=\"edge\" id=\"edge2\">\n<title>0-&gt;0</title>\n<path d=\"M52.4435,-119.6907C63.0278,-120.1521 72,-117.9219 72,-113 72,-109.77 68.136,-107.6992 62.4881,-106.7876\" fill=\"none\" stroke=\"#000000\"/>\n<polygon fill=\"#000000\" points=\"62.5987,-103.289 52.4435,-106.3093 62.2656,-110.2811 62.5987,-103.289\" stroke=\"#000000\"/>\n<text fill=\"#000000\" font-family=\"Times,serif\" font-size=\"14.00\" text-anchor=\"middle\" x=\"88\" y=\"-109.3\">0, 0.5</text>\n</g>\n<!-- 1 -->\n<g class=\"node\" id=\"node3\">\n<title>1</title>\n<ellipse cx=\"27\" cy=\"-22\" fill=\"none\" rx=\"18\" ry=\"18\" stroke=\"#000000\"/>\n<ellipse cx=\"27\" cy=\"-22\" fill=\"none\" rx=\"22\" ry=\"22\" stroke=\"#000000\"/>\n<text fill=\"#000000\" font-family=\"Times,serif\" font-size=\"14.00\" text-anchor=\"middle\" x=\"27\" y=\"-18.3\">1</text>\n</g>\n<!-- 0&#45;&gt;1 -->\n<g class=\"edge\" id=\"edge3\">\n<title>0-&gt;1</title>\n<path d=\"M27,-94.5848C27,-83.1105 27,-68.0231 27,-54.5774\" fill=\"none\" stroke=\"#000000\"/>\n<polygon fill=\"#000000\" points=\"30.5001,-54.2465 27,-44.2465 23.5001,-54.2466 30.5001,-54.2465\" stroke=\"#000000\"/>\n<text fill=\"#000000\" font-family=\"Times,serif\" font-size=\"14.00\" text-anchor=\"middle\" x=\"43\" y=\"-65.8\">1, 0.5</text>\n</g>\n</g>\n</svg></div>"
     },
     "metadata": {},
     "output_type": "display_data"
    }
   ],
   "source": [
    "def make_automaton(p: float = 0.5) -> PDFA:\n",
    "    \"\"\"\n",
    "    Make the PDFA for the heads and tail example.\n",
    "\n",
    "    :param p: the probability of getting head.\n",
    "    :return: the PDFA.\n",
    "    \"\"\"\n",
    "    return PDFA(\n",
    "        nb_states=1,\n",
    "        alphabet_size=2,\n",
    "        transition_dict={\n",
    "            0: {\n",
    "                0: (0, p),\n",
    "                1: (1, 1 - p),\n",
    "            }\n",
    "        }\n",
    "    )\n",
    "\n",
    "automaton = make_automaton(0.5)\n",
    "render_automaton(automaton)"
   ],
   "metadata": {
    "collapsed": false,
    "pycharm": {
     "name": "#%%\n"
    }
   }
  },
  {
   "cell_type": "markdown",
   "source": [
    "Sample a word from the PDFA above."
   ],
   "metadata": {
    "collapsed": false,
    "pycharm": {
     "name": "#%% md\n"
    }
   }
  },
  {
   "cell_type": "code",
   "execution_count": 8,
   "outputs": [
    {
     "data": {
      "text/plain": "[1]"
     },
     "execution_count": 8,
     "metadata": {},
     "output_type": "execute_result"
    }
   ],
   "source": [
    "automaton.sample()"
   ],
   "metadata": {
    "collapsed": false,
    "pycharm": {
     "name": "#%%\n"
    }
   }
  },
  {
   "cell_type": "markdown",
   "source": [
    "The average length of the trace is:\n",
    "\n",
    "$\\sum\\limits_{n=1}^{\\infty} n\\cdot p^{n-1}p = \\frac{1}{(1 - p)}$\n",
    "\n",
    "Which for $p=\\frac{1}{2}$, it is $2$."
   ],
   "metadata": {
    "collapsed": false,
    "pycharm": {
     "name": "#%% md\n"
    }
   }
  },
  {
   "cell_type": "code",
   "execution_count": 16,
   "outputs": [
    {
     "name": "stdout",
     "output_type": "stream",
     "text": [
      "The average length of the samples is:  1.11. Expected:  1.11.\n",
      "The average length of the samples is:  1.99. Expected:  2.00.\n",
      "The average length of the samples is:  9.69. Expected: 10.00.\n"
     ]
    }
   ],
   "source": [
    "ps = [0.1, 0.5, 0.9]\n",
    "expected_length = lambda x: 1 / (1 - x)\n",
    "\n",
    "nb_samples = 10000\n",
    "for p in ps:\n",
    "    _automaton = make_automaton(p)\n",
    "    samples = [_automaton.sample() for _ in range(nb_samples)]\n",
    "    average_length = np.mean([len(l) for l in samples])\n",
    "    print(f\"The average length of the samples is: {average_length:5.2f}. Expected: {expected_length(p):5.2f}.\")"
   ],
   "metadata": {
    "collapsed": false,
    "pycharm": {
     "name": "#%%\n"
    }
   }
  }
 ],
 "metadata": {
  "kernelspec": {
   "display_name": "Python 3",
   "language": "python",
   "name": "python3"
  },
  "language_info": {
   "codemirror_mode": {
    "name": "ipython",
    "version": 2
   },
   "file_extension": ".py",
   "mimetype": "text/x-python",
   "name": "python",
   "nbconvert_exporter": "python",
   "pygments_lexer": "ipython2",
   "version": "2.7.6"
  }
 },
 "nbformat": 4,
 "nbformat_minor": 0
}