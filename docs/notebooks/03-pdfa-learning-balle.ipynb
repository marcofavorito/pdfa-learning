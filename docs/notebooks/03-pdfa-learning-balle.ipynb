{
 "cells": [
  {
   "cell_type": "markdown",
   "metadata": {
    "collapsed": true,
    "pycharm": {
     "name": "#%% md\n"
    }
   },
   "source": [
    "## PDFA Learning (Balle et al., 2013)\n",
    "\n",
    "In this notebook, we will show how to\n",
    "use the implementation of PDFA learning,\n",
    "as described in \\[2\\].\n",
    "\n",
    "In terms of APIs, the only things that change\n",
    "are the parameter `algorithm` to `learn_pdfa`\n",
    "(it must be `Algorithm.BALLE`)\n",
    "and the set of parameters.\n",
    "See [`pdfa_learning.learn_pdfa.balle.params.py`](https://github.com/marcofavorito/pdfa-learning/blob/master/src/pdfa_learning/learn_pdfa/balle/params.py)\n",
    "for all the details.\n",
    "\n",
    "### Example\n",
    "\n",
    "Utility functions to display SVGs."
   ]
  },
  {
   "cell_type": "code",
   "execution_count": 1,
   "metadata": {
    "pycharm": {
     "name": "#%%\n"
    }
   },
   "outputs": [],
   "source": [
    "%matplotlib inline\n",
    "\n",
    "from pprint import pprint\n",
    "\n",
    "from helpers import render_automaton\n",
    "from pdfa_learning.learn_pdfa.base import learn_pdfa, Algorithm\n",
    "from pdfa_learning.learn_pdfa.utils.generator import MultiprocessedGenerator, SimpleGenerator\n",
    "from pdfa_learning.pdfa import PDFA\n"
   ]
  },
  {
   "cell_type": "markdown",
   "metadata": {
    "pycharm": {
     "name": "#%% md\n"
    }
   },
   "source": [
    "## Example with 1 state.\n",
    "\n",
    "Let's use the following automaton to generate samples."
   ]
  },
  {
   "cell_type": "code",
   "execution_count": 2,
   "metadata": {
    "pycharm": {
     "name": "#%%\n"
    }
   },
   "outputs": [
    {
     "name": "stderr",
     "output_type": "stream",
     "text": [
      "[2021-01-02 15:36:50,713][graphviz.files][DEBUG] write 195 bytes to '/tmp/tmp4krev1q6/output'\n",
      "[2021-01-02 15:36:50,715][graphviz.backend][DEBUG] run ['dot', '-Kdot', '-Tsvg', '-O', 'output']\n"
     ]
    },
    {
     "data": {
      "text/html": [
       "<div style=\"display: block; margin-left: auto; margin-right: auto; width: 50%;white-space: nowrap\"><svg height=\"82pt\" viewBox=\"0.00 0.00 420.09 82.50\" width=\"420pt\" xmlns=\"http://www.w3.org/2000/svg\" xmlns:xlink=\"http://www.w3.org/1999/xlink\">\n",
       "<g class=\"graph\" id=\"graph0\" transform=\"scale(1 1) rotate(0) translate(4 78.5)\">\n",
       "<title>%3</title>\n",
       "<polygon fill=\"white\" points=\"-4,4 -4,-78.5 416.09,-78.5 416.09,4 -4,4\" stroke=\"transparent\"/>\n",
       "<!-- fake -->\n",
       "<g class=\"node\" id=\"node1\">\n",
       "<title>fake</title>\n",
       "</g>\n",
       "<!-- 0 -->\n",
       "<g class=\"node\" id=\"node2\">\n",
       "<title>0</title>\n",
       "<ellipse cx=\"125.09\" cy=\"-23.5\" fill=\"none\" rx=\"27\" ry=\"18\" stroke=\"black\"/>\n",
       "<text font-family=\"Times,serif\" font-size=\"14.00\" text-anchor=\"middle\" x=\"125.09\" y=\"-19.8\">0</text>\n",
       "</g>\n",
       "<!-- fake&#45;&gt;0 -->\n",
       "<g class=\"edge\" id=\"edge1\">\n",
       "<title>fake-&gt;0</title>\n",
       "<path d=\"M61.34,-23.5C69.68,-23.5 78.84,-23.5 87.52,-23.5\" fill=\"none\" stroke=\"black\" stroke-width=\"2\"/>\n",
       "<polygon fill=\"black\" points=\"87.79,-27 97.79,-23.5 87.79,-20 87.79,-27\" stroke=\"black\" stroke-width=\"2\"/>\n",
       "</g>\n",
       "<!-- 0&#45;&gt;0 -->\n",
       "<g class=\"edge\" id=\"edge2\">\n",
       "<title>0-&gt;0</title>\n",
       "<path d=\"M117.24,-40.91C115.77,-50.59 118.39,-59.5 125.09,-59.5 129.28,-59.5 131.88,-56.02 132.88,-51.04\" fill=\"none\" stroke=\"black\"/>\n",
       "<polygon fill=\"black\" points=\"136.38,-50.93 132.95,-40.91 129.38,-50.88 136.38,-50.93\" stroke=\"black\"/>\n",
       "<text font-family=\"Times,serif\" font-size=\"14.00\" text-anchor=\"middle\" x=\"125.09\" y=\"-63.3\">0, 0.3</text>\n",
       "</g>\n",
       "<!-- 1 -->\n",
       "<g class=\"node\" id=\"node3\">\n",
       "<title>1</title>\n",
       "<ellipse cx=\"256.09\" cy=\"-23.5\" fill=\"none\" rx=\"27\" ry=\"18\" stroke=\"black\"/>\n",
       "<text font-family=\"Times,serif\" font-size=\"14.00\" text-anchor=\"middle\" x=\"256.09\" y=\"-19.8\">1</text>\n",
       "</g>\n",
       "<!-- 0&#45;&gt;1 -->\n",
       "<g class=\"edge\" id=\"edge3\">\n",
       "<title>0-&gt;1</title>\n",
       "<path d=\"M152.2,-23.5C171.35,-23.5 197.59,-23.5 218.78,-23.5\" fill=\"none\" stroke=\"black\"/>\n",
       "<polygon fill=\"black\" points=\"219.03,-27 229.03,-23.5 219.03,-20 219.03,-27\" stroke=\"black\"/>\n",
       "<text font-family=\"Times,serif\" font-size=\"14.00\" text-anchor=\"middle\" x=\"190.59\" y=\"-27.3\">1, 0.7</text>\n",
       "</g>\n",
       "<!-- &#45;1 -->\n",
       "<g class=\"node\" id=\"node4\">\n",
       "<title>-1</title>\n",
       "<ellipse cx=\"388.59\" cy=\"-23.5\" fill=\"none\" rx=\"19.5\" ry=\"19.5\" stroke=\"black\"/>\n",
       "<ellipse cx=\"388.59\" cy=\"-23.5\" fill=\"none\" rx=\"23.5\" ry=\"23.5\" stroke=\"black\"/>\n",
       "<text font-family=\"Times,serif\" font-size=\"14.00\" text-anchor=\"middle\" x=\"388.59\" y=\"-19.8\">-1</text>\n",
       "</g>\n",
       "<!-- 1&#45;&gt;&#45;1 -->\n",
       "<g class=\"edge\" id=\"edge4\">\n",
       "<title>1-&gt;-1</title>\n",
       "<path d=\"M283.19,-23.5C303.77,-23.5 332.6,-23.5 354.75,-23.5\" fill=\"none\" stroke=\"black\"/>\n",
       "<polygon fill=\"black\" points=\"355.03,-27 365.03,-23.5 355.03,-20 355.03,-27\" stroke=\"black\"/>\n",
       "<text font-family=\"Times,serif\" font-size=\"14.00\" text-anchor=\"middle\" x=\"324.09\" y=\"-27.3\">-1, 1.0</text>\n",
       "</g>\n",
       "</g>\n",
       "</svg></div>"
      ],
      "text/plain": [
       "<IPython.core.display.HTML object>"
      ]
     },
     "metadata": {},
     "output_type": "display_data"
    }
   ],
   "source": [
    "p = 0.3\n",
    "automaton = PDFA(\n",
    "    nb_states=2,\n",
    "    alphabet_size=2,\n",
    "    transition_dict={\n",
    "        0: {\n",
    "            0: (0, p),\n",
    "            1: (1, 1 - p),\n",
    "        },\n",
    "        1: {-1: (-1, 1.0)}\n",
    "    }\n",
    ")\n",
    "render_automaton(automaton)"
   ]
  },
  {
   "cell_type": "markdown",
   "metadata": {
    "pycharm": {
     "name": "#%% md\n"
    }
   },
   "source": [
    "Now we will run the PAC learning algorithm\n",
    "to learn the above automaton.\n",
    "\n",
    "With respect to the previous guide,\n",
    "we have the following parameters:\n",
    "\n",
    "- `nb_samples`is the number of samples.\n",
    "- `delta`: is the probability of failure.\n",
    "- `n`: is the upperbound on the number of states."
   ]
  },
  {
   "cell_type": "code",
   "execution_count": 3,
   "metadata": {
    "pycharm": {
     "name": "#%%\n"
    }
   },
   "outputs": [
    {
     "name": "stderr",
     "output_type": "stream",
     "text": [
      "[2021-01-02 15:36:54,341][pdfa_learning.learn_pdfa][INFO] Parameters: (\"{'alphabet_size': 2,\\n\"\n",
      " \" 'dataset_size': None,\\n\"\n",
      " \" 'delta': 0.1,\\n\"\n",
      " \" 'epsilon': 0.1,\\n\"\n",
      " \" 'n': 10,\\n\"\n",
      " \" 'nb_samples': 20000,\\n\"\n",
      " \" 'sample_generator': \"\n",
      " '<pdfa_learning.learn_pdfa.utils.generator.MultiprocessedGenerator object at '\n",
      " '0x7f5410c6bf50>,\\n'\n",
      " \" 'with_ground': False,\\n\"\n",
      " \" 'with_infty_norm': True,\\n\"\n",
      " \" 'with_smoothing': False}\")\n",
      "[2021-01-02 15:36:54,343][pdfa_learning.learn_pdfa][INFO] Generating the sample.\n",
      "[2021-01-02 15:36:54,737][pdfa_learning.learn_pdfa][INFO] Average trace length: 2.4088.\n",
      "[2021-01-02 15:36:54,738][pdfa_learning.learn_pdfa][INFO] Populate root multiset.\n",
      "[2021-01-02 15:36:54,755][pdfa_learning.learn_pdfa][INFO] Iteration 0\n",
      "[2021-01-02 15:36:54,756][pdfa_learning.learn_pdfa][INFO] Iteration 1\n",
      "[2021-01-02 15:36:54,757][pdfa_learning.learn_pdfa][INFO] Iteration 2\n",
      "[2021-01-02 15:36:54,758][pdfa_learning.learn_pdfa][INFO] Biggest multiset has cardinality 0, done\n"
     ]
    }
   ],
   "source": [
    "generator = MultiprocessedGenerator(SimpleGenerator(automaton), nb_processes=8)\n",
    "\n",
    "pdfa = learn_pdfa(\n",
    "    algorithm=Algorithm.BALLE,\n",
    "    sample_generator=generator,\n",
    "    alphabet_size=automaton.alphabet_size,\n",
    "    nb_samples=20000,\n",
    "    delta=0.1,\n",
    "    n=10,\n",
    ")"
   ]
  },
  {
   "cell_type": "markdown",
   "metadata": {
    "pycharm": {
     "name": "#%% md\n"
    }
   },
   "source": [
    "The learned automaton is:"
   ]
  },
  {
   "cell_type": "code",
   "execution_count": 4,
   "metadata": {
    "pycharm": {
     "name": "#%%\n"
    }
   },
   "outputs": [
    {
     "name": "stderr",
     "output_type": "stream",
     "text": [
      "[2021-01-02 15:36:57,832][graphviz.files][DEBUG] write 201 bytes to '/tmp/tmpmq4hjn0x/output'\n",
      "[2021-01-02 15:36:57,834][graphviz.backend][DEBUG] run ['dot', '-Kdot', '-Tsvg', '-O', 'output']\n"
     ]
    },
    {
     "name": "stdout",
     "output_type": "stream",
     "text": [
      "Transitions: \n",
      "{(0, -1, 0.0, -1), (1, -1, 1.0, -1), (0, 0, 0.2852, 0), (0, 1, 0.7148, 1)}\n"
     ]
    },
    {
     "data": {
      "text/html": [
       "<div style=\"display: block; margin-left: auto; margin-right: auto; width: 50%;white-space: nowrap\"><svg height=\"82pt\" viewBox=\"0.00 0.00 447.09 82.50\" width=\"447pt\" xmlns=\"http://www.w3.org/2000/svg\" xmlns:xlink=\"http://www.w3.org/1999/xlink\">\n",
       "<g class=\"graph\" id=\"graph0\" transform=\"scale(1 1) rotate(0) translate(4 78.5)\">\n",
       "<title>%3</title>\n",
       "<polygon fill=\"white\" points=\"-4,4 -4,-78.5 443.09,-78.5 443.09,4 -4,4\" stroke=\"transparent\"/>\n",
       "<!-- fake -->\n",
       "<g class=\"node\" id=\"node1\">\n",
       "<title>fake</title>\n",
       "</g>\n",
       "<!-- 0 -->\n",
       "<g class=\"node\" id=\"node2\">\n",
       "<title>0</title>\n",
       "<ellipse cx=\"125.09\" cy=\"-23.5\" fill=\"none\" rx=\"27\" ry=\"18\" stroke=\"black\"/>\n",
       "<text font-family=\"Times,serif\" font-size=\"14.00\" text-anchor=\"middle\" x=\"125.09\" y=\"-19.8\">0</text>\n",
       "</g>\n",
       "<!-- fake&#45;&gt;0 -->\n",
       "<g class=\"edge\" id=\"edge1\">\n",
       "<title>fake-&gt;0</title>\n",
       "<path d=\"M61.34,-23.5C69.68,-23.5 78.84,-23.5 87.52,-23.5\" fill=\"none\" stroke=\"black\" stroke-width=\"2\"/>\n",
       "<polygon fill=\"black\" points=\"87.79,-27 97.79,-23.5 87.79,-20 87.79,-27\" stroke=\"black\" stroke-width=\"2\"/>\n",
       "</g>\n",
       "<!-- 0&#45;&gt;0 -->\n",
       "<g class=\"edge\" id=\"edge3\">\n",
       "<title>0-&gt;0</title>\n",
       "<path d=\"M117.24,-40.91C115.77,-50.59 118.39,-59.5 125.09,-59.5 129.28,-59.5 131.88,-56.02 132.88,-51.04\" fill=\"none\" stroke=\"black\"/>\n",
       "<polygon fill=\"black\" points=\"136.38,-50.93 132.95,-40.91 129.38,-50.88 136.38,-50.93\" stroke=\"black\"/>\n",
       "<text font-family=\"Times,serif\" font-size=\"14.00\" text-anchor=\"middle\" x=\"125.09\" y=\"-63.3\">0, 0.2852</text>\n",
       "</g>\n",
       "<!-- 1 -->\n",
       "<g class=\"node\" id=\"node3\">\n",
       "<title>1</title>\n",
       "<ellipse cx=\"283.09\" cy=\"-23.5\" fill=\"none\" rx=\"27\" ry=\"18\" stroke=\"black\"/>\n",
       "<text font-family=\"Times,serif\" font-size=\"14.00\" text-anchor=\"middle\" x=\"283.09\" y=\"-19.8\">1</text>\n",
       "</g>\n",
       "<!-- 0&#45;&gt;1 -->\n",
       "<g class=\"edge\" id=\"edge2\">\n",
       "<title>0-&gt;1</title>\n",
       "<path d=\"M152.21,-23.5C177.85,-23.5 217.2,-23.5 245.87,-23.5\" fill=\"none\" stroke=\"black\"/>\n",
       "<polygon fill=\"black\" points=\"245.9,-27 255.9,-23.5 245.9,-20 245.9,-27\" stroke=\"black\"/>\n",
       "<text font-family=\"Times,serif\" font-size=\"14.00\" text-anchor=\"middle\" x=\"204.09\" y=\"-27.3\">1, 0.7148</text>\n",
       "</g>\n",
       "<!-- &#45;1 -->\n",
       "<g class=\"node\" id=\"node4\">\n",
       "<title>-1</title>\n",
       "<ellipse cx=\"415.59\" cy=\"-23.5\" fill=\"none\" rx=\"19.5\" ry=\"19.5\" stroke=\"black\"/>\n",
       "<ellipse cx=\"415.59\" cy=\"-23.5\" fill=\"none\" rx=\"23.5\" ry=\"23.5\" stroke=\"black\"/>\n",
       "<text font-family=\"Times,serif\" font-size=\"14.00\" text-anchor=\"middle\" x=\"415.59\" y=\"-19.8\">-1</text>\n",
       "</g>\n",
       "<!-- 1&#45;&gt;&#45;1 -->\n",
       "<g class=\"edge\" id=\"edge4\">\n",
       "<title>1-&gt;-1</title>\n",
       "<path d=\"M310.19,-23.5C330.77,-23.5 359.6,-23.5 381.75,-23.5\" fill=\"none\" stroke=\"black\"/>\n",
       "<polygon fill=\"black\" points=\"382.03,-27 392.03,-23.5 382.03,-20 382.03,-27\" stroke=\"black\"/>\n",
       "<text font-family=\"Times,serif\" font-size=\"14.00\" text-anchor=\"middle\" x=\"351.09\" y=\"-27.3\">-1, 1.0</text>\n",
       "</g>\n",
       "</g>\n",
       "</svg></div>"
      ],
      "text/plain": [
       "<IPython.core.display.HTML object>"
      ]
     },
     "metadata": {},
     "output_type": "display_data"
    }
   ],
   "source": [
    "print(\"Transitions: \")\n",
    "pprint(pdfa.transitions)\n",
    "render_automaton(pdfa)"
   ]
  },
  {
   "cell_type": "markdown",
   "metadata": {},
   "source": [
    "## Example with 2 states.\n",
    "\n",
    "Now let's try to learn the following automaton:"
   ]
  },
  {
   "cell_type": "code",
   "execution_count": 5,
   "metadata": {
    "pycharm": {
     "name": "#%%\n"
    }
   },
   "outputs": [
    {
     "name": "stderr",
     "output_type": "stream",
     "text": [
      "[2021-01-02 15:17:37,396][graphviz.files][DEBUG] write 248 bytes to '/tmp/tmpguqglne2/output'\n",
      "[2021-01-02 15:17:37,397][graphviz.backend][DEBUG] run ['dot', '-Kdot', '-Tsvg', '-O', 'output']\n"
     ]
    },
    {
     "data": {
      "text/html": [
       "<div style=\"display: block; margin-left: auto; margin-right: auto; width: 50%;white-space: nowrap\"><svg height=\"117pt\" viewBox=\"0.00 0.00 551.09 117.50\" width=\"551pt\" xmlns=\"http://www.w3.org/2000/svg\" xmlns:xlink=\"http://www.w3.org/1999/xlink\">\n",
       "<g class=\"graph\" id=\"graph0\" transform=\"scale(1 1) rotate(0) translate(4 113.5)\">\n",
       "<title>%3</title>\n",
       "<polygon fill=\"white\" points=\"-4,4 -4,-113.5 547.09,-113.5 547.09,4 -4,4\" stroke=\"transparent\"/>\n",
       "<!-- fake -->\n",
       "<g class=\"node\" id=\"node1\">\n",
       "<title>fake</title>\n",
       "</g>\n",
       "<!-- 0 -->\n",
       "<g class=\"node\" id=\"node2\">\n",
       "<title>0</title>\n",
       "<ellipse cx=\"125.09\" cy=\"-23.5\" fill=\"none\" rx=\"27\" ry=\"18\" stroke=\"black\"/>\n",
       "<text font-family=\"Times,serif\" font-size=\"14.00\" text-anchor=\"middle\" x=\"125.09\" y=\"-19.8\">0</text>\n",
       "</g>\n",
       "<!-- fake&#45;&gt;0 -->\n",
       "<g class=\"edge\" id=\"edge1\">\n",
       "<title>fake-&gt;0</title>\n",
       "<path d=\"M61.34,-23.5C69.68,-23.5 78.84,-23.5 87.52,-23.5\" fill=\"none\" stroke=\"black\" stroke-width=\"2\"/>\n",
       "<polygon fill=\"black\" points=\"87.79,-27 97.79,-23.5 87.79,-20 87.79,-27\" stroke=\"black\" stroke-width=\"2\"/>\n",
       "</g>\n",
       "<!-- 1 -->\n",
       "<g class=\"node\" id=\"node3\">\n",
       "<title>1</title>\n",
       "<ellipse cx=\"256.09\" cy=\"-58.5\" fill=\"none\" rx=\"27\" ry=\"18\" stroke=\"black\"/>\n",
       "<text font-family=\"Times,serif\" font-size=\"14.00\" text-anchor=\"middle\" x=\"256.09\" y=\"-54.8\">1</text>\n",
       "</g>\n",
       "<!-- 0&#45;&gt;1 -->\n",
       "<g class=\"edge\" id=\"edge2\">\n",
       "<title>0-&gt;1</title>\n",
       "<path d=\"M150.36,-30.08C170.36,-35.51 198.95,-43.27 221.21,-49.31\" fill=\"none\" stroke=\"black\"/>\n",
       "<polygon fill=\"black\" points=\"220.37,-52.7 230.94,-51.94 222.2,-45.95 220.37,-52.7\" stroke=\"black\"/>\n",
       "<text font-family=\"Times,serif\" font-size=\"14.00\" text-anchor=\"middle\" x=\"190.59\" y=\"-49.3\">0, 0.4</text>\n",
       "</g>\n",
       "<!-- 2 -->\n",
       "<g class=\"node\" id=\"node4\">\n",
       "<title>2</title>\n",
       "<ellipse cx=\"387.09\" cy=\"-23.5\" fill=\"none\" rx=\"27\" ry=\"18\" stroke=\"black\"/>\n",
       "<text font-family=\"Times,serif\" font-size=\"14.00\" text-anchor=\"middle\" x=\"387.09\" y=\"-19.8\">2</text>\n",
       "</g>\n",
       "<!-- 0&#45;&gt;2 -->\n",
       "<g class=\"edge\" id=\"edge3\">\n",
       "<title>0-&gt;2</title>\n",
       "<path d=\"M151.89,-21.26C172.71,-19.57 202.76,-17.39 229.09,-16.5 253.08,-15.68 259.11,-15.68 283.09,-16.5 305.42,-17.26 330.41,-18.93 350.19,-20.46\" fill=\"none\" stroke=\"black\"/>\n",
       "<polygon fill=\"black\" points=\"350.05,-23.96 360.3,-21.26 350.61,-16.98 350.05,-23.96\" stroke=\"black\"/>\n",
       "<text font-family=\"Times,serif\" font-size=\"14.00\" text-anchor=\"middle\" x=\"256.09\" y=\"-20.3\">1, 0.6</text>\n",
       "</g>\n",
       "<!-- 1&#45;&gt;1 -->\n",
       "<g class=\"edge\" id=\"edge5\">\n",
       "<title>1-&gt;1</title>\n",
       "<path d=\"M244.84,-75.16C242.34,-85.12 246.09,-94.5 256.09,-94.5 262.5,-94.5 266.34,-90.65 267.62,-85.27\" fill=\"none\" stroke=\"black\"/>\n",
       "<polygon fill=\"black\" points=\"271.11,-85.06 267.34,-75.16 264.12,-85.25 271.11,-85.06\" stroke=\"black\"/>\n",
       "<text font-family=\"Times,serif\" font-size=\"14.00\" text-anchor=\"middle\" x=\"256.09\" y=\"-98.3\">1, 0.7</text>\n",
       "</g>\n",
       "<!-- 1&#45;&gt;2 -->\n",
       "<g class=\"edge\" id=\"edge4\">\n",
       "<title>1-&gt;2</title>\n",
       "<path d=\"M281.36,-51.92C301.36,-46.49 329.95,-38.73 352.21,-32.69\" fill=\"none\" stroke=\"black\"/>\n",
       "<polygon fill=\"black\" points=\"353.2,-36.05 361.94,-30.05 351.37,-29.29 353.2,-36.05\" stroke=\"black\"/>\n",
       "<text font-family=\"Times,serif\" font-size=\"14.00\" text-anchor=\"middle\" x=\"321.59\" y=\"-49.3\">0, 0.3</text>\n",
       "</g>\n",
       "<!-- &#45;1 -->\n",
       "<g class=\"node\" id=\"node5\">\n",
       "<title>-1</title>\n",
       "<ellipse cx=\"519.59\" cy=\"-23.5\" fill=\"none\" rx=\"19.5\" ry=\"19.5\" stroke=\"black\"/>\n",
       "<ellipse cx=\"519.59\" cy=\"-23.5\" fill=\"none\" rx=\"23.5\" ry=\"23.5\" stroke=\"black\"/>\n",
       "<text font-family=\"Times,serif\" font-size=\"14.00\" text-anchor=\"middle\" x=\"519.59\" y=\"-19.8\">-1</text>\n",
       "</g>\n",
       "<!-- 2&#45;&gt;&#45;1 -->\n",
       "<g class=\"edge\" id=\"edge6\">\n",
       "<title>2-&gt;-1</title>\n",
       "<path d=\"M414.19,-23.5C434.77,-23.5 463.6,-23.5 485.75,-23.5\" fill=\"none\" stroke=\"black\"/>\n",
       "<polygon fill=\"black\" points=\"486.03,-27 496.03,-23.5 486.03,-20 486.03,-27\" stroke=\"black\"/>\n",
       "<text font-family=\"Times,serif\" font-size=\"14.00\" text-anchor=\"middle\" x=\"455.09\" y=\"-27.3\">-1, 1.0</text>\n",
       "</g>\n",
       "</g>\n",
       "</svg></div>"
      ],
      "text/plain": [
       "<IPython.core.display.HTML object>"
      ]
     },
     "metadata": {},
     "output_type": "display_data"
    }
   ],
   "source": [
    "p1 = 0.4\n",
    "p2 = 0.7\n",
    "automaton = PDFA(\n",
    "    3,\n",
    "    2,\n",
    "    {\n",
    "        0: {\n",
    "            0: (1, p1),\n",
    "            1: (2, 1 - p1),\n",
    "        },\n",
    "        1: {\n",
    "            0: (2, 1 - p2),\n",
    "            1: (1, p2),\n",
    "        },\n",
    "        2: {\n",
    "            -1: (-1, 1.0)\n",
    "        }\n",
    "    },\n",
    ")\n",
    "render_automaton(automaton)\n"
   ]
  },
  {
   "cell_type": "code",
   "execution_count": 5,
   "metadata": {
    "pycharm": {
     "name": "#%%\n"
    }
   },
   "outputs": [
    {
     "name": "stderr",
     "output_type": "stream",
     "text": [
      "[2021-01-02 15:37:10,974][pdfa_learning.learn_pdfa][INFO] Parameters: (\"{'alphabet_size': 2,\\n\"\n",
      " \" 'dataset_size': None,\\n\"\n",
      " \" 'delta': 0.1,\\n\"\n",
      " \" 'epsilon': 0.1,\\n\"\n",
      " \" 'n': 10,\\n\"\n",
      " \" 'nb_samples': 20000,\\n\"\n",
      " \" 'sample_generator': \"\n",
      " '<pdfa_learning.learn_pdfa.utils.generator.MultiprocessedGenerator object at '\n",
      " '0x7f53fd4d4590>,\\n'\n",
      " \" 'with_ground': False,\\n\"\n",
      " \" 'with_infty_norm': True,\\n\"\n",
      " \" 'with_smoothing': False}\")\n",
      "[2021-01-02 15:37:10,976][pdfa_learning.learn_pdfa][INFO] Generating the sample.\n",
      "[2021-01-02 15:37:11,348][pdfa_learning.learn_pdfa][INFO] Average trace length: 2.4088.\n",
      "[2021-01-02 15:37:11,348][pdfa_learning.learn_pdfa][INFO] Populate root multiset.\n",
      "[2021-01-02 15:37:11,367][pdfa_learning.learn_pdfa][INFO] Iteration 0\n",
      "[2021-01-02 15:37:11,367][pdfa_learning.learn_pdfa][INFO] Iteration 1\n",
      "[2021-01-02 15:37:11,368][pdfa_learning.learn_pdfa][INFO] Iteration 2\n",
      "[2021-01-02 15:37:11,368][pdfa_learning.learn_pdfa][INFO] Biggest multiset has cardinality 0, done\n"
     ]
    }
   ],
   "source": [
    "generator = MultiprocessedGenerator(SimpleGenerator(automaton), nb_processes=8)\n",
    "\n",
    "pdfa = learn_pdfa(\n",
    "    algorithm=Algorithm.BALLE,\n",
    "    sample_generator=generator,\n",
    "    alphabet_size=automaton.alphabet_size,\n",
    "    nb_samples=20000,\n",
    "    delta=0.1,\n",
    "    n=10,\n",
    ")"
   ]
  },
  {
   "cell_type": "code",
   "execution_count": 6,
   "metadata": {
    "pycharm": {
     "name": "#%%\n"
    }
   },
   "outputs": [
    {
     "name": "stderr",
     "output_type": "stream",
     "text": [
      "[2021-01-02 15:37:13,469][graphviz.files][DEBUG] write 201 bytes to '/tmp/tmp41alblmt/output'\n",
      "[2021-01-02 15:37:13,471][graphviz.backend][DEBUG] run ['dot', '-Kdot', '-Tsvg', '-O', 'output']\n"
     ]
    },
    {
     "data": {
      "text/html": [
       "<div style=\"display: block; margin-left: auto; margin-right: auto; width: 50%;white-space: nowrap\"><svg height=\"82pt\" viewBox=\"0.00 0.00 447.09 82.50\" width=\"447pt\" xmlns=\"http://www.w3.org/2000/svg\" xmlns:xlink=\"http://www.w3.org/1999/xlink\">\n",
       "<g class=\"graph\" id=\"graph0\" transform=\"scale(1 1) rotate(0) translate(4 78.5)\">\n",
       "<title>%3</title>\n",
       "<polygon fill=\"white\" points=\"-4,4 -4,-78.5 443.09,-78.5 443.09,4 -4,4\" stroke=\"transparent\"/>\n",
       "<!-- fake -->\n",
       "<g class=\"node\" id=\"node1\">\n",
       "<title>fake</title>\n",
       "</g>\n",
       "<!-- 0 -->\n",
       "<g class=\"node\" id=\"node2\">\n",
       "<title>0</title>\n",
       "<ellipse cx=\"125.09\" cy=\"-23.5\" fill=\"none\" rx=\"27\" ry=\"18\" stroke=\"black\"/>\n",
       "<text font-family=\"Times,serif\" font-size=\"14.00\" text-anchor=\"middle\" x=\"125.09\" y=\"-19.8\">0</text>\n",
       "</g>\n",
       "<!-- fake&#45;&gt;0 -->\n",
       "<g class=\"edge\" id=\"edge1\">\n",
       "<title>fake-&gt;0</title>\n",
       "<path d=\"M61.34,-23.5C69.68,-23.5 78.84,-23.5 87.52,-23.5\" fill=\"none\" stroke=\"black\" stroke-width=\"2\"/>\n",
       "<polygon fill=\"black\" points=\"87.79,-27 97.79,-23.5 87.79,-20 87.79,-27\" stroke=\"black\" stroke-width=\"2\"/>\n",
       "</g>\n",
       "<!-- 0&#45;&gt;0 -->\n",
       "<g class=\"edge\" id=\"edge3\">\n",
       "<title>0-&gt;0</title>\n",
       "<path d=\"M117.24,-40.91C115.77,-50.59 118.39,-59.5 125.09,-59.5 129.28,-59.5 131.88,-56.02 132.88,-51.04\" fill=\"none\" stroke=\"black\"/>\n",
       "<polygon fill=\"black\" points=\"136.38,-50.93 132.95,-40.91 129.38,-50.88 136.38,-50.93\" stroke=\"black\"/>\n",
       "<text font-family=\"Times,serif\" font-size=\"14.00\" text-anchor=\"middle\" x=\"125.09\" y=\"-63.3\">0, 0.2852</text>\n",
       "</g>\n",
       "<!-- 1 -->\n",
       "<g class=\"node\" id=\"node3\">\n",
       "<title>1</title>\n",
       "<ellipse cx=\"283.09\" cy=\"-23.5\" fill=\"none\" rx=\"27\" ry=\"18\" stroke=\"black\"/>\n",
       "<text font-family=\"Times,serif\" font-size=\"14.00\" text-anchor=\"middle\" x=\"283.09\" y=\"-19.8\">1</text>\n",
       "</g>\n",
       "<!-- 0&#45;&gt;1 -->\n",
       "<g class=\"edge\" id=\"edge2\">\n",
       "<title>0-&gt;1</title>\n",
       "<path d=\"M152.21,-23.5C177.85,-23.5 217.2,-23.5 245.87,-23.5\" fill=\"none\" stroke=\"black\"/>\n",
       "<polygon fill=\"black\" points=\"245.9,-27 255.9,-23.5 245.9,-20 245.9,-27\" stroke=\"black\"/>\n",
       "<text font-family=\"Times,serif\" font-size=\"14.00\" text-anchor=\"middle\" x=\"204.09\" y=\"-27.3\">1, 0.7148</text>\n",
       "</g>\n",
       "<!-- &#45;1 -->\n",
       "<g class=\"node\" id=\"node4\">\n",
       "<title>-1</title>\n",
       "<ellipse cx=\"415.59\" cy=\"-23.5\" fill=\"none\" rx=\"19.5\" ry=\"19.5\" stroke=\"black\"/>\n",
       "<ellipse cx=\"415.59\" cy=\"-23.5\" fill=\"none\" rx=\"23.5\" ry=\"23.5\" stroke=\"black\"/>\n",
       "<text font-family=\"Times,serif\" font-size=\"14.00\" text-anchor=\"middle\" x=\"415.59\" y=\"-19.8\">-1</text>\n",
       "</g>\n",
       "<!-- 1&#45;&gt;&#45;1 -->\n",
       "<g class=\"edge\" id=\"edge4\">\n",
       "<title>1-&gt;-1</title>\n",
       "<path d=\"M310.19,-23.5C330.77,-23.5 359.6,-23.5 381.75,-23.5\" fill=\"none\" stroke=\"black\"/>\n",
       "<polygon fill=\"black\" points=\"382.03,-27 392.03,-23.5 382.03,-20 382.03,-27\" stroke=\"black\"/>\n",
       "<text font-family=\"Times,serif\" font-size=\"14.00\" text-anchor=\"middle\" x=\"351.09\" y=\"-27.3\">-1, 1.0</text>\n",
       "</g>\n",
       "</g>\n",
       "</svg></div>"
      ],
      "text/plain": [
       "<IPython.core.display.HTML object>"
      ]
     },
     "metadata": {},
     "output_type": "display_data"
    }
   ],
   "source": [
    "render_automaton(pdfa)"
   ]
  },
  {
   "cell_type": "markdown",
   "metadata": {
    "pycharm": {
     "name": "#%% md\n"
    }
   },
   "source": [
    "## References\n",
    "\n",
    "- [1] Balle, Borja, Jorge Castro, and Ricard Gavaldà.\n",
    "  \"Learning probabilistic automata: A study in state distinguishability.\"\n",
    "  Theoretical Computer Science 473 (2013): 46-60."
   ]
  }
 ],
 "metadata": {
  "kernelspec": {
   "display_name": "Python 3",
   "language": "python",
   "name": "python3"
  },
  "language_info": {
   "codemirror_mode": {
    "name": "ipython",
    "version": 3
   },
   "file_extension": ".py",
   "mimetype": "text/x-python",
   "name": "python",
   "nbconvert_exporter": "python",
   "pygments_lexer": "ipython3",
   "version": "3.7.6"
  }
 },
 "nbformat": 4,
 "nbformat_minor": 1
}