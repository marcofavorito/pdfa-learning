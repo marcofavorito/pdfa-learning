{
 "cells": [
  {
   "cell_type": "markdown",
   "metadata": {
    "collapsed": true,
    "pycharm": {
     "name": "#%% md\n"
    }
   },
   "source": [
    "## PDFA Learning\n",
    "\n",
    "In this notebook, we will show how to\n",
    "use the implementation of PDFA learning,\n",
    "as described in \\[1\\].\n",
    "\n",
    "### Example\n",
    "\n",
    "Utility functions to display SVGs."
   ]
  },
  {
   "cell_type": "code",
   "execution_count": 1,
   "outputs": [],
   "source": [
    "%matplotlib inline\n",
    "\n",
    "from pprint import pprint\n",
    "\n",
    "from docs.notebooks.helpers import render_automaton\n",
    "from pdfa_learning.learn_pdfa.base import learn_pdfa, Algorithm\n",
    "from pdfa_learning.learn_pdfa.utils.generator import MultiprocessedGenerator, SimpleGenerator\n",
    "from pdfa_learning.pdfa import PDFA\n"
   ],
   "metadata": {
    "collapsed": false,
    "pycharm": {
     "name": "#%%\n"
    }
   }
  },
  {
   "cell_type": "markdown",
   "source": [
    "## Example with 1 state.\n",
    "\n",
    "Let's use the following automaton to generate samples."
   ],
   "metadata": {
    "collapsed": false,
    "pycharm": {
     "name": "#%% md\n"
    }
   }
  },
  {
   "cell_type": "code",
   "execution_count": 2,
   "outputs": [
    {
     "name": "stderr",
     "output_type": "stream",
     "text": [
      "[2021-01-02 14:43:32,948][graphviz.files][DEBUG] write 195 bytes to '/tmp/tmp2jb51l1i/output'\n",
      "[2021-01-02 14:43:32,950][graphviz.backend][DEBUG] run ['dot', '-Kdot', '-Tsvg', '-O', 'output']\n"
     ]
    },
    {
     "data": {
      "text/plain": "<IPython.core.display.HTML object>",
      "text/html": "<div style=\"display: block; margin-left: auto; margin-right: auto; width: 50%;white-space: nowrap\"><svg height=\"82pt\" viewBox=\"0.00 0.00 420.09 82.50\" width=\"420pt\" xmlns=\"http://www.w3.org/2000/svg\" xmlns:xlink=\"http://www.w3.org/1999/xlink\">\n<g class=\"graph\" id=\"graph0\" transform=\"scale(1 1) rotate(0) translate(4 78.5)\">\n<title>%3</title>\n<polygon fill=\"white\" points=\"-4,4 -4,-78.5 416.09,-78.5 416.09,4 -4,4\" stroke=\"transparent\"/>\n<!-- fake -->\n<g class=\"node\" id=\"node1\">\n<title>fake</title>\n</g>\n<!-- 0 -->\n<g class=\"node\" id=\"node2\">\n<title>0</title>\n<ellipse cx=\"125.09\" cy=\"-23.5\" fill=\"none\" rx=\"27\" ry=\"18\" stroke=\"black\"/>\n<text font-family=\"Times,serif\" font-size=\"14.00\" text-anchor=\"middle\" x=\"125.09\" y=\"-19.8\">0</text>\n</g>\n<!-- fake&#45;&gt;0 -->\n<g class=\"edge\" id=\"edge1\">\n<title>fake-&gt;0</title>\n<path d=\"M61.34,-23.5C69.68,-23.5 78.84,-23.5 87.52,-23.5\" fill=\"none\" stroke=\"black\" stroke-width=\"2\"/>\n<polygon fill=\"black\" points=\"87.79,-27 97.79,-23.5 87.79,-20 87.79,-27\" stroke=\"black\" stroke-width=\"2\"/>\n</g>\n<!-- 0&#45;&gt;0 -->\n<g class=\"edge\" id=\"edge2\">\n<title>0-&gt;0</title>\n<path d=\"M117.24,-40.91C115.77,-50.59 118.39,-59.5 125.09,-59.5 129.28,-59.5 131.88,-56.02 132.88,-51.04\" fill=\"none\" stroke=\"black\"/>\n<polygon fill=\"black\" points=\"136.38,-50.93 132.95,-40.91 129.38,-50.88 136.38,-50.93\" stroke=\"black\"/>\n<text font-family=\"Times,serif\" font-size=\"14.00\" text-anchor=\"middle\" x=\"125.09\" y=\"-63.3\">0, 0.3</text>\n</g>\n<!-- 1 -->\n<g class=\"node\" id=\"node3\">\n<title>1</title>\n<ellipse cx=\"256.09\" cy=\"-23.5\" fill=\"none\" rx=\"27\" ry=\"18\" stroke=\"black\"/>\n<text font-family=\"Times,serif\" font-size=\"14.00\" text-anchor=\"middle\" x=\"256.09\" y=\"-19.8\">1</text>\n</g>\n<!-- 0&#45;&gt;1 -->\n<g class=\"edge\" id=\"edge3\">\n<title>0-&gt;1</title>\n<path d=\"M152.2,-23.5C171.35,-23.5 197.59,-23.5 218.78,-23.5\" fill=\"none\" stroke=\"black\"/>\n<polygon fill=\"black\" points=\"219.03,-27 229.03,-23.5 219.03,-20 219.03,-27\" stroke=\"black\"/>\n<text font-family=\"Times,serif\" font-size=\"14.00\" text-anchor=\"middle\" x=\"190.59\" y=\"-27.3\">1, 0.7</text>\n</g>\n<!-- &#45;1 -->\n<g class=\"node\" id=\"node4\">\n<title>-1</title>\n<ellipse cx=\"388.59\" cy=\"-23.5\" fill=\"none\" rx=\"19.5\" ry=\"19.5\" stroke=\"black\"/>\n<ellipse cx=\"388.59\" cy=\"-23.5\" fill=\"none\" rx=\"23.5\" ry=\"23.5\" stroke=\"black\"/>\n<text font-family=\"Times,serif\" font-size=\"14.00\" text-anchor=\"middle\" x=\"388.59\" y=\"-19.8\">-1</text>\n</g>\n<!-- 1&#45;&gt;&#45;1 -->\n<g class=\"edge\" id=\"edge4\">\n<title>1-&gt;-1</title>\n<path d=\"M283.19,-23.5C303.77,-23.5 332.6,-23.5 354.75,-23.5\" fill=\"none\" stroke=\"black\"/>\n<polygon fill=\"black\" points=\"355.03,-27 365.03,-23.5 355.03,-20 355.03,-27\" stroke=\"black\"/>\n<text font-family=\"Times,serif\" font-size=\"14.00\" text-anchor=\"middle\" x=\"324.09\" y=\"-27.3\">-1, 1.0</text>\n</g>\n</g>\n</svg></div>"
     },
     "metadata": {},
     "output_type": "display_data"
    }
   ],
   "source": [
    "p = 0.3\n",
    "automaton = PDFA(\n",
    "    nb_states=2,\n",
    "    alphabet_size=2,\n",
    "    transition_dict={\n",
    "        0: {\n",
    "            0: (0, p),\n",
    "            1: (1, 1 - p),\n",
    "        },\n",
    "        1: {-1: (-1, 1.0)}\n",
    "    }\n",
    ")\n",
    "render_automaton(automaton)"
   ],
   "metadata": {
    "collapsed": false,
    "pycharm": {
     "name": "#%%\n"
    }
   }
  },
  {
   "cell_type": "markdown",
   "source": [
    "Now we will run the PAC learning algorithm\n",
    "to learn the above automaton.\n",
    "\n",
    "- `MultiprocessedGenerator` wraps the automaton and generates\n",
    "  samples using multiple processes;\n",
    "- `learn_pdfa` is the main entrypoint of the algorithm implementation.\n",
    "- `n1_max_debug` is the maximum number for $N_1$ (for the subgraph learning)\n",
    "- `n2_max_debug` is the maximum number for $N_2$ (for the probabilities learning)\n",
    "- `m0_max_debug` is the maximum number for $m_0$ (for multiset filtering)"
   ],
   "metadata": {
    "collapsed": false,
    "pycharm": {
     "name": "#%% md\n"
    }
   }
  },
  {
   "cell_type": "code",
   "execution_count": 3,
   "outputs": [
    {
     "name": "stderr",
     "output_type": "stream",
     "text": [
      "[2021-01-02 14:43:34,140][pdfa_learning.learn_pdfa][INFO] Parameters: ('PalmerParams(sample_generator=<pdfa_learning.learn_pdfa.utils.generator.MultiprocessedGenerator '\n",
      " 'object at 0x7f145c675a50>, alphabet_size=2, epsilon=0.2, delta_1=0.2, '\n",
      " 'delta_2=0.2, mu=0.1, n=3, m0_max_debug=10000.0, n1_max_debug=100000, '\n",
      " 'n2_max_debug=100000)')\n",
      "[2021-01-02 14:43:34,141][pdfa_learning.learn_pdfa][INFO] N1 = 54432.579348157145, N2 = 55998960.0. Chosen: 55998960\n",
      "[2021-01-02 14:43:34,142][pdfa_learning.learn_pdfa][INFO] m0 = 466658\n",
      "[2021-01-02 14:43:34,143][pdfa_learning.learn_pdfa][INFO] N = 55998960\n",
      "[2021-01-02 14:43:34,143][pdfa_learning.learn_pdfa][INFO] using m0 = 10000.0, N = 100000\n",
      "[2021-01-02 14:43:36,064][pdfa_learning.learn_pdfa][INFO] Sampling done.\n",
      "[2021-01-02 14:43:36,064][pdfa_learning.learn_pdfa][INFO] Number of samples: 100000.\n",
      "[2021-01-02 14:43:36,068][pdfa_learning.learn_pdfa][INFO] Avg. length of samples: 2.4336.\n",
      "[2021-01-02 14:43:36,174][pdfa_learning.learn_pdfa][INFO] Iteration 0\n",
      "[2021-01-02 14:43:36,406][pdfa_learning.learn_pdfa][INFO] Iteration 1\n",
      "[2021-01-02 14:43:36,556][pdfa_learning.learn_pdfa][INFO] Iteration 2\n",
      "[2021-01-02 14:43:36,681][pdfa_learning.learn_pdfa][INFO] Vertices: {0, 1}\n",
      "[2021-01-02 14:43:36,682][pdfa_learning.learn_pdfa][INFO] Transitions: {0: {-1: -1, 0: 0, 1: 1}, 1: {-1: -1}}\n",
      "[2021-01-02 14:43:36,682][pdfa_learning.learn_pdfa][INFO] Computed final node: -1 (no outgoing transitions)\n",
      "[2021-01-02 14:43:36,685][pdfa_learning.learn_pdfa][INFO] Number of vertices: 2.\n",
      "[2021-01-02 14:43:36,685][pdfa_learning.learn_pdfa][INFO] Transitions: {0: {-1: -1, 0: 0, 1: 1}, 1: {-1: -1}}.\n",
      "[2021-01-02 14:43:36,685][pdfa_learning.learn_pdfa][INFO] Start learning probabilities.\n",
      "[2021-01-02 14:43:36,686][pdfa_learning.learn_pdfa][INFO] Sample size: 21734484183613.\n",
      "[2021-01-02 14:43:36,686][pdfa_learning.learn_pdfa][INFO] Using N = 100000.\n",
      "[2021-01-02 14:43:39,286][pdfa_learning.learn_pdfa][INFO] Computed vertices: {0, 1}\n",
      "[2021-01-02 14:43:39,287][pdfa_learning.learn_pdfa][INFO] Computed transition dictionary: {0: {-1: (-1, 0.0), 0: (0, 0.2931063733529379), 1: (1, 0.7068936266470621)},\n",
      " 1: {-1: (-1, 1.0)}}\n"
     ]
    }
   ],
   "source": [
    "generator = MultiprocessedGenerator(SimpleGenerator(automaton), nb_processes=8)\n",
    "\n",
    "pdfa = learn_pdfa(\n",
    "    algorithm=Algorithm.PALMER,\n",
    "    sample_generator=generator,\n",
    "    alphabet_size=2,\n",
    "    epsilon=0.2,\n",
    "    delta_1=0.2,\n",
    "    delta_2=0.2,\n",
    "    mu=0.1,\n",
    "    n=3,\n",
    "    n1_max_debug=100000,\n",
    "    n2_max_debug=100000,\n",
    "    m0_max_debug=100000 / 10,\n",
    ")"
   ],
   "metadata": {
    "collapsed": false,
    "pycharm": {
     "name": "#%%\n"
    }
   }
  },
  {
   "cell_type": "markdown",
   "source": [
    "The learned automaton is:"
   ],
   "metadata": {
    "collapsed": false,
    "pycharm": {
     "name": "#%% md\n"
    }
   }
  },
  {
   "cell_type": "code",
   "execution_count": 4,
   "outputs": [
    {
     "name": "stderr",
     "output_type": "stream",
     "text": [
      "[2021-01-02 14:43:47,373][graphviz.files][DEBUG] write 203 bytes to '/tmp/tmpi71wsy7h/output'\n",
      "[2021-01-02 14:43:47,374][graphviz.backend][DEBUG] run ['dot', '-Kdot', '-Tsvg', '-O', 'output']\n"
     ]
    },
    {
     "name": "stdout",
     "output_type": "stream",
     "text": [
      "Transitions: \n",
      "{(0, -1, 0.0, -1),\n",
      " (0, 0, 0.2931063733529379, 0),\n",
      " (0, 1, 0.7068936266470621, 1),\n",
      " (1, -1, 1.0, -1)}\n"
     ]
    },
    {
     "data": {
      "text/plain": "<IPython.core.display.HTML object>",
      "text/html": "<div style=\"display: block; margin-left: auto; margin-right: auto; width: 50%;white-space: nowrap\"><svg height=\"82pt\" viewBox=\"0.00 0.00 456.09 82.50\" width=\"456pt\" xmlns=\"http://www.w3.org/2000/svg\" xmlns:xlink=\"http://www.w3.org/1999/xlink\">\n<g class=\"graph\" id=\"graph0\" transform=\"scale(1 1) rotate(0) translate(4 78.5)\">\n<title>%3</title>\n<polygon fill=\"white\" points=\"-4,4 -4,-78.5 452.09,-78.5 452.09,4 -4,4\" stroke=\"transparent\"/>\n<!-- fake -->\n<g class=\"node\" id=\"node1\">\n<title>fake</title>\n</g>\n<!-- 0 -->\n<g class=\"node\" id=\"node2\">\n<title>0</title>\n<ellipse cx=\"125.09\" cy=\"-23.5\" fill=\"none\" rx=\"27\" ry=\"18\" stroke=\"black\"/>\n<text font-family=\"Times,serif\" font-size=\"14.00\" text-anchor=\"middle\" x=\"125.09\" y=\"-19.8\">0</text>\n</g>\n<!-- fake&#45;&gt;0 -->\n<g class=\"edge\" id=\"edge1\">\n<title>fake-&gt;0</title>\n<path d=\"M61.34,-23.5C69.68,-23.5 78.84,-23.5 87.52,-23.5\" fill=\"none\" stroke=\"black\" stroke-width=\"2\"/>\n<polygon fill=\"black\" points=\"87.79,-27 97.79,-23.5 87.79,-20 87.79,-27\" stroke=\"black\" stroke-width=\"2\"/>\n</g>\n<!-- 0&#45;&gt;0 -->\n<g class=\"edge\" id=\"edge3\">\n<title>0-&gt;0</title>\n<path d=\"M117.24,-40.91C115.77,-50.59 118.39,-59.5 125.09,-59.5 129.28,-59.5 131.88,-56.02 132.88,-51.04\" fill=\"none\" stroke=\"black\"/>\n<polygon fill=\"black\" points=\"136.38,-50.93 132.95,-40.91 129.38,-50.88 136.38,-50.93\" stroke=\"black\"/>\n<text font-family=\"Times,serif\" font-size=\"14.00\" text-anchor=\"middle\" x=\"125.09\" y=\"-63.3\">0, 0.29311</text>\n</g>\n<!-- 1 -->\n<g class=\"node\" id=\"node3\">\n<title>1</title>\n<ellipse cx=\"292.09\" cy=\"-23.5\" fill=\"none\" rx=\"27\" ry=\"18\" stroke=\"black\"/>\n<text font-family=\"Times,serif\" font-size=\"14.00\" text-anchor=\"middle\" x=\"292.09\" y=\"-19.8\">1</text>\n</g>\n<!-- 0&#45;&gt;1 -->\n<g class=\"edge\" id=\"edge2\">\n<title>0-&gt;1</title>\n<path d=\"M152.24,-23.5C179.88,-23.5 223.68,-23.5 254.69,-23.5\" fill=\"none\" stroke=\"black\"/>\n<polygon fill=\"black\" points=\"255.07,-27 265.07,-23.5 255.07,-20 255.07,-27\" stroke=\"black\"/>\n<text font-family=\"Times,serif\" font-size=\"14.00\" text-anchor=\"middle\" x=\"208.59\" y=\"-27.3\">1, 0.70689</text>\n</g>\n<!-- &#45;1 -->\n<g class=\"node\" id=\"node4\">\n<title>-1</title>\n<ellipse cx=\"424.59\" cy=\"-23.5\" fill=\"none\" rx=\"19.5\" ry=\"19.5\" stroke=\"black\"/>\n<ellipse cx=\"424.59\" cy=\"-23.5\" fill=\"none\" rx=\"23.5\" ry=\"23.5\" stroke=\"black\"/>\n<text font-family=\"Times,serif\" font-size=\"14.00\" text-anchor=\"middle\" x=\"424.59\" y=\"-19.8\">-1</text>\n</g>\n<!-- 1&#45;&gt;&#45;1 -->\n<g class=\"edge\" id=\"edge4\">\n<title>1-&gt;-1</title>\n<path d=\"M319.19,-23.5C339.77,-23.5 368.6,-23.5 390.75,-23.5\" fill=\"none\" stroke=\"black\"/>\n<polygon fill=\"black\" points=\"391.03,-27 401.03,-23.5 391.03,-20 391.03,-27\" stroke=\"black\"/>\n<text font-family=\"Times,serif\" font-size=\"14.00\" text-anchor=\"middle\" x=\"360.09\" y=\"-27.3\">-1, 1.0</text>\n</g>\n</g>\n</svg></div>"
     },
     "metadata": {},
     "output_type": "display_data"
    }
   ],
   "source": [
    "print(\"Transitions: \")\n",
    "pprint(pdfa.transitions)\n",
    "render_automaton(pdfa)"
   ],
   "metadata": {
    "collapsed": false,
    "pycharm": {
     "name": "#%%\n"
    }
   }
  },
  {
   "cell_type": "markdown",
   "source": [
    "## Example with 2 states.\n",
    "\n",
    "Now let's try to learn the following automaton:"
   ],
   "metadata": {
    "collapsed": false
   }
  },
  {
   "cell_type": "code",
   "execution_count": 6,
   "outputs": [
    {
     "name": "stderr",
     "output_type": "stream",
     "text": [
      "[2021-01-02 14:44:10,487][graphviz.files][DEBUG] write 248 bytes to '/tmp/tmpdlqd63qg/output'\n",
      "[2021-01-02 14:44:10,488][graphviz.backend][DEBUG] run ['dot', '-Kdot', '-Tsvg', '-O', 'output']\n"
     ]
    },
    {
     "data": {
      "text/plain": "<IPython.core.display.HTML object>",
      "text/html": "<div style=\"display: block; margin-left: auto; margin-right: auto; width: 50%;white-space: nowrap\"><svg height=\"117pt\" viewBox=\"0.00 0.00 551.09 117.50\" width=\"551pt\" xmlns=\"http://www.w3.org/2000/svg\" xmlns:xlink=\"http://www.w3.org/1999/xlink\">\n<g class=\"graph\" id=\"graph0\" transform=\"scale(1 1) rotate(0) translate(4 113.5)\">\n<title>%3</title>\n<polygon fill=\"white\" points=\"-4,4 -4,-113.5 547.09,-113.5 547.09,4 -4,4\" stroke=\"transparent\"/>\n<!-- fake -->\n<g class=\"node\" id=\"node1\">\n<title>fake</title>\n</g>\n<!-- 0 -->\n<g class=\"node\" id=\"node2\">\n<title>0</title>\n<ellipse cx=\"125.09\" cy=\"-23.5\" fill=\"none\" rx=\"27\" ry=\"18\" stroke=\"black\"/>\n<text font-family=\"Times,serif\" font-size=\"14.00\" text-anchor=\"middle\" x=\"125.09\" y=\"-19.8\">0</text>\n</g>\n<!-- fake&#45;&gt;0 -->\n<g class=\"edge\" id=\"edge1\">\n<title>fake-&gt;0</title>\n<path d=\"M61.34,-23.5C69.68,-23.5 78.84,-23.5 87.52,-23.5\" fill=\"none\" stroke=\"black\" stroke-width=\"2\"/>\n<polygon fill=\"black\" points=\"87.79,-27 97.79,-23.5 87.79,-20 87.79,-27\" stroke=\"black\" stroke-width=\"2\"/>\n</g>\n<!-- 1 -->\n<g class=\"node\" id=\"node3\">\n<title>1</title>\n<ellipse cx=\"256.09\" cy=\"-58.5\" fill=\"none\" rx=\"27\" ry=\"18\" stroke=\"black\"/>\n<text font-family=\"Times,serif\" font-size=\"14.00\" text-anchor=\"middle\" x=\"256.09\" y=\"-54.8\">1</text>\n</g>\n<!-- 0&#45;&gt;1 -->\n<g class=\"edge\" id=\"edge2\">\n<title>0-&gt;1</title>\n<path d=\"M150.36,-30.08C170.36,-35.51 198.95,-43.27 221.21,-49.31\" fill=\"none\" stroke=\"black\"/>\n<polygon fill=\"black\" points=\"220.37,-52.7 230.94,-51.94 222.2,-45.95 220.37,-52.7\" stroke=\"black\"/>\n<text font-family=\"Times,serif\" font-size=\"14.00\" text-anchor=\"middle\" x=\"190.59\" y=\"-49.3\">0, 0.4</text>\n</g>\n<!-- 2 -->\n<g class=\"node\" id=\"node4\">\n<title>2</title>\n<ellipse cx=\"387.09\" cy=\"-23.5\" fill=\"none\" rx=\"27\" ry=\"18\" stroke=\"black\"/>\n<text font-family=\"Times,serif\" font-size=\"14.00\" text-anchor=\"middle\" x=\"387.09\" y=\"-19.8\">2</text>\n</g>\n<!-- 0&#45;&gt;2 -->\n<g class=\"edge\" id=\"edge3\">\n<title>0-&gt;2</title>\n<path d=\"M151.89,-21.26C172.71,-19.57 202.76,-17.39 229.09,-16.5 253.08,-15.68 259.11,-15.68 283.09,-16.5 305.42,-17.26 330.41,-18.93 350.19,-20.46\" fill=\"none\" stroke=\"black\"/>\n<polygon fill=\"black\" points=\"350.05,-23.96 360.3,-21.26 350.61,-16.98 350.05,-23.96\" stroke=\"black\"/>\n<text font-family=\"Times,serif\" font-size=\"14.00\" text-anchor=\"middle\" x=\"256.09\" y=\"-20.3\">1, 0.6</text>\n</g>\n<!-- 1&#45;&gt;1 -->\n<g class=\"edge\" id=\"edge5\">\n<title>1-&gt;1</title>\n<path d=\"M244.84,-75.16C242.34,-85.12 246.09,-94.5 256.09,-94.5 262.5,-94.5 266.34,-90.65 267.62,-85.27\" fill=\"none\" stroke=\"black\"/>\n<polygon fill=\"black\" points=\"271.11,-85.06 267.34,-75.16 264.12,-85.25 271.11,-85.06\" stroke=\"black\"/>\n<text font-family=\"Times,serif\" font-size=\"14.00\" text-anchor=\"middle\" x=\"256.09\" y=\"-98.3\">1, 0.7</text>\n</g>\n<!-- 1&#45;&gt;2 -->\n<g class=\"edge\" id=\"edge4\">\n<title>1-&gt;2</title>\n<path d=\"M281.36,-51.92C301.36,-46.49 329.95,-38.73 352.21,-32.69\" fill=\"none\" stroke=\"black\"/>\n<polygon fill=\"black\" points=\"353.2,-36.05 361.94,-30.05 351.37,-29.29 353.2,-36.05\" stroke=\"black\"/>\n<text font-family=\"Times,serif\" font-size=\"14.00\" text-anchor=\"middle\" x=\"321.59\" y=\"-49.3\">0, 0.3</text>\n</g>\n<!-- &#45;1 -->\n<g class=\"node\" id=\"node5\">\n<title>-1</title>\n<ellipse cx=\"519.59\" cy=\"-23.5\" fill=\"none\" rx=\"19.5\" ry=\"19.5\" stroke=\"black\"/>\n<ellipse cx=\"519.59\" cy=\"-23.5\" fill=\"none\" rx=\"23.5\" ry=\"23.5\" stroke=\"black\"/>\n<text font-family=\"Times,serif\" font-size=\"14.00\" text-anchor=\"middle\" x=\"519.59\" y=\"-19.8\">-1</text>\n</g>\n<!-- 2&#45;&gt;&#45;1 -->\n<g class=\"edge\" id=\"edge6\">\n<title>2-&gt;-1</title>\n<path d=\"M414.19,-23.5C434.77,-23.5 463.6,-23.5 485.75,-23.5\" fill=\"none\" stroke=\"black\"/>\n<polygon fill=\"black\" points=\"486.03,-27 496.03,-23.5 486.03,-20 486.03,-27\" stroke=\"black\"/>\n<text font-family=\"Times,serif\" font-size=\"14.00\" text-anchor=\"middle\" x=\"455.09\" y=\"-27.3\">-1, 1.0</text>\n</g>\n</g>\n</svg></div>"
     },
     "metadata": {},
     "output_type": "display_data"
    }
   ],
   "source": [
    "p1 = 0.4\n",
    "p2 = 0.7\n",
    "automaton = PDFA(\n",
    "    3,\n",
    "    2,\n",
    "    {\n",
    "        0: {\n",
    "            0: (1, p1),\n",
    "            1: (2, 1 - p1),\n",
    "        },\n",
    "        1: {\n",
    "            0: (2, 1 - p2),\n",
    "            1: (1, p2),\n",
    "        },\n",
    "        2: {\n",
    "            -1: (-1, 1.0)\n",
    "        }\n",
    "    },\n",
    ")\n",
    "render_automaton(automaton)\n"
   ],
   "metadata": {
    "collapsed": false,
    "pycharm": {
     "name": "#%%\n"
    }
   }
  },
  {
   "cell_type": "code",
   "execution_count": 9,
   "outputs": [
    {
     "name": "stderr",
     "output_type": "stream",
     "text": [
      "[2021-01-02 14:44:29,211][pdfa_learning.learn_pdfa][INFO] Parameters: ('PalmerParams(sample_generator=<pdfa_learning.learn_pdfa.utils.generator.MultiprocessedGenerator '\n",
      " 'object at 0x7f145c1fb850>, alphabet_size=2, epsilon=0.2, delta_1=0.2, '\n",
      " 'delta_2=0.2, mu=0.1, n=3, m0_max_debug=300000.0, n1_max_debug=3000000, '\n",
      " 'n2_max_debug=1000000)')\n",
      "[2021-01-02 14:44:29,213][pdfa_learning.learn_pdfa][INFO] N1 = 54432.579348157145, N2 = 55998960.0. Chosen: 55998960\n",
      "[2021-01-02 14:44:29,214][pdfa_learning.learn_pdfa][INFO] m0 = 466658\n",
      "[2021-01-02 14:44:29,214][pdfa_learning.learn_pdfa][INFO] N = 55998960\n",
      "[2021-01-02 14:44:29,215][pdfa_learning.learn_pdfa][INFO] using m0 = 300000.0, N = 3000000\n",
      "[2021-01-02 14:46:40,305][pdfa_learning.learn_pdfa][INFO] Sampling done.\n",
      "[2021-01-02 14:46:40,306][pdfa_learning.learn_pdfa][INFO] Number of samples: 3000000.\n",
      "[2021-01-02 14:46:40,406][pdfa_learning.learn_pdfa][INFO] Avg. length of samples: 3.334408.\n",
      "[2021-01-02 14:46:44,128][pdfa_learning.learn_pdfa][INFO] Iteration 0\n",
      "[2021-01-02 14:46:53,632][pdfa_learning.learn_pdfa][INFO] Iteration 1\n",
      "[2021-01-02 14:47:00,990][pdfa_learning.learn_pdfa][INFO] Iteration 2\n",
      "[2021-01-02 14:47:08,984][pdfa_learning.learn_pdfa][INFO] Iteration 3\n",
      "[2021-01-02 14:47:20,676][pdfa_learning.learn_pdfa][INFO] Iteration 4\n",
      "[2021-01-02 14:47:30,239][pdfa_learning.learn_pdfa][INFO] Vertices: {0, 1, 2}\n",
      "[2021-01-02 14:47:30,239][pdfa_learning.learn_pdfa][INFO] Transitions: {0: {-1: -1, 0: 2, 1: 1}, 1: {-1: -1}, 2: {-1: -1, 0: 1, 1: 2}}\n",
      "[2021-01-02 14:47:30,240][pdfa_learning.learn_pdfa][INFO] Computed final node: -1 (no outgoing transitions)\n",
      "[2021-01-02 14:47:30,327][pdfa_learning.learn_pdfa][INFO] Number of vertices: 3.\n",
      "[2021-01-02 14:47:30,328][pdfa_learning.learn_pdfa][INFO] Transitions: {0: {-1: -1, 0: 2, 1: 1}, 1: {-1: -1}, 2: {-1: -1, 0: 1, 1: 2}}.\n",
      "[2021-01-02 14:47:30,328][pdfa_learning.learn_pdfa][INFO] Start learning probabilities.\n",
      "[2021-01-02 14:47:30,329][pdfa_learning.learn_pdfa][INFO] Sample size: 21734484183613.\n",
      "[2021-01-02 14:47:30,329][pdfa_learning.learn_pdfa][INFO] Using N = 1000000.\n",
      "[2021-01-02 14:48:25,928][pdfa_learning.learn_pdfa][INFO] Computed vertices: {0, 1, 2}\n",
      "[2021-01-02 14:48:25,929][pdfa_learning.learn_pdfa][INFO] Computed transition dictionary: {0: {-1: (-1, 0.0), 0: (2, 0.401744), 1: (1, 0.598256)},\n",
      " 1: {-1: (-1, 1.0)},\n",
      " 2: {-1: (-1, 0.0), 0: (1, 0.2981075176900793), 1: (2, 0.7018924823099207)}}\n"
     ]
    }
   ],
   "source": [
    "generator = MultiprocessedGenerator(SimpleGenerator(automaton), nb_processes=8)\n",
    "\n",
    "pdfa = learn_pdfa(\n",
    "    algorithm=Algorithm.PALMER,\n",
    "    sample_generator=generator,\n",
    "    alphabet_size=2,\n",
    "    epsilon=0.2,\n",
    "    delta_1=0.2,\n",
    "    delta_2=0.2,\n",
    "    mu=0.1,\n",
    "    n=3,\n",
    "    n1_max_debug=3000000,\n",
    "    n2_max_debug=1000000,\n",
    "    m0_max_debug=3000000 / 10,\n",
    ")"
   ],
   "metadata": {
    "collapsed": false,
    "pycharm": {
     "name": "#%%\n"
    }
   }
  },
  {
   "cell_type": "code",
   "execution_count": 10,
   "outputs": [
    {
     "name": "stderr",
     "output_type": "stream",
     "text": [
      "[2021-01-02 14:48:25,960][graphviz.files][DEBUG] write 264 bytes to '/tmp/tmpawvg8o9j/output'\n",
      "[2021-01-02 14:48:25,961][graphviz.backend][DEBUG] run ['dot', '-Kdot', '-Tsvg', '-O', 'output']\n"
     ]
    },
    {
     "data": {
      "text/plain": "<IPython.core.display.HTML object>",
      "text/html": "<div style=\"display: block; margin-left: auto; margin-right: auto; width: 50%;white-space: nowrap\"><svg height=\"103pt\" viewBox=\"0.00 0.00 646.09 103.00\" width=\"646pt\" xmlns=\"http://www.w3.org/2000/svg\" xmlns:xlink=\"http://www.w3.org/1999/xlink\">\n<g class=\"graph\" id=\"graph0\" transform=\"scale(1 1) rotate(0) translate(4 99)\">\n<title>%3</title>\n<polygon fill=\"white\" points=\"-4,4 -4,-99 642.09,-99 642.09,4 -4,4\" stroke=\"transparent\"/>\n<!-- fake -->\n<g class=\"node\" id=\"node1\">\n<title>fake</title>\n</g>\n<!-- 0 -->\n<g class=\"node\" id=\"node2\">\n<title>0</title>\n<ellipse cx=\"125.09\" cy=\"-62\" fill=\"none\" rx=\"27\" ry=\"18\" stroke=\"black\"/>\n<text font-family=\"Times,serif\" font-size=\"14.00\" text-anchor=\"middle\" x=\"125.09\" y=\"-58.3\">0</text>\n</g>\n<!-- fake&#45;&gt;0 -->\n<g class=\"edge\" id=\"edge1\">\n<title>fake-&gt;0</title>\n<path d=\"M61.34,-62C69.68,-62 78.84,-62 87.52,-62\" fill=\"none\" stroke=\"black\" stroke-width=\"2\"/>\n<polygon fill=\"black\" points=\"87.79,-65.5 97.79,-62 87.79,-58.5 87.79,-65.5\" stroke=\"black\" stroke-width=\"2\"/>\n</g>\n<!-- 1 -->\n<g class=\"node\" id=\"node3\">\n<title>1</title>\n<ellipse cx=\"482.09\" cy=\"-62\" fill=\"none\" rx=\"27\" ry=\"18\" stroke=\"black\"/>\n<text font-family=\"Times,serif\" font-size=\"14.00\" text-anchor=\"middle\" x=\"482.09\" y=\"-58.3\">1</text>\n</g>\n<!-- 0&#45;&gt;1 -->\n<g class=\"edge\" id=\"edge2\">\n<title>0-&gt;1</title>\n<path d=\"M151.65,-66.35C157.69,-67.29 164.11,-68.24 170.09,-69 287.82,-83.93 319.37,-83.93 437.09,-69 439.81,-68.66 442.61,-68.27 445.42,-67.87\" fill=\"none\" stroke=\"black\"/>\n<polygon fill=\"black\" points=\"446.17,-71.3 455.54,-66.35 445.13,-64.37 446.17,-71.3\" stroke=\"black\"/>\n<text font-family=\"Times,serif\" font-size=\"14.00\" text-anchor=\"middle\" x=\"303.59\" y=\"-83.8\">1, 0.59826</text>\n</g>\n<!-- 2 -->\n<g class=\"node\" id=\"node4\">\n<title>2</title>\n<ellipse cx=\"303.59\" cy=\"-18\" fill=\"none\" rx=\"27\" ry=\"18\" stroke=\"black\"/>\n<text font-family=\"Times,serif\" font-size=\"14.00\" text-anchor=\"middle\" x=\"303.59\" y=\"-14.3\">2</text>\n</g>\n<!-- 0&#45;&gt;2 -->\n<g class=\"edge\" id=\"edge3\">\n<title>0-&gt;2</title>\n<path d=\"M150.64,-55.88C181.11,-48.29 233.28,-35.28 267.86,-26.66\" fill=\"none\" stroke=\"black\"/>\n<polygon fill=\"black\" points=\"269.12,-29.95 277.98,-24.14 267.43,-23.16 269.12,-29.95\" stroke=\"black\"/>\n<text font-family=\"Times,serif\" font-size=\"14.00\" text-anchor=\"middle\" x=\"208.59\" y=\"-53.8\">0, 0.40174</text>\n</g>\n<!-- &#45;1 -->\n<g class=\"node\" id=\"node5\">\n<title>-1</title>\n<ellipse cx=\"614.59\" cy=\"-62\" fill=\"none\" rx=\"19.5\" ry=\"19.5\" stroke=\"black\"/>\n<ellipse cx=\"614.59\" cy=\"-62\" fill=\"none\" rx=\"23.5\" ry=\"23.5\" stroke=\"black\"/>\n<text font-family=\"Times,serif\" font-size=\"14.00\" text-anchor=\"middle\" x=\"614.59\" y=\"-58.3\">-1</text>\n</g>\n<!-- 1&#45;&gt;&#45;1 -->\n<g class=\"edge\" id=\"edge4\">\n<title>1-&gt;-1</title>\n<path d=\"M509.19,-62C529.77,-62 558.6,-62 580.75,-62\" fill=\"none\" stroke=\"black\"/>\n<polygon fill=\"black\" points=\"581.03,-65.5 591.03,-62 581.03,-58.5 581.03,-65.5\" stroke=\"black\"/>\n<text font-family=\"Times,serif\" font-size=\"14.00\" text-anchor=\"middle\" x=\"550.09\" y=\"-65.8\">-1, 1.0</text>\n</g>\n<!-- 2&#45;&gt;1 -->\n<g class=\"edge\" id=\"edge6\">\n<title>2-&gt;1</title>\n<path d=\"M329.14,-24.12C359.61,-31.71 411.78,-44.72 446.36,-53.34\" fill=\"none\" stroke=\"black\"/>\n<polygon fill=\"black\" points=\"445.93,-56.84 456.48,-55.86 447.62,-50.05 445.93,-56.84\" stroke=\"black\"/>\n<text font-family=\"Times,serif\" font-size=\"14.00\" text-anchor=\"middle\" x=\"398.59\" y=\"-53.8\">0, 0.29811</text>\n</g>\n<!-- 2&#45;&gt;2 -->\n<g class=\"edge\" id=\"edge5\">\n<title>2-&gt;2</title>\n<path d=\"M287.87,-32.79C282.75,-43.42 287.99,-54 303.59,-54 314.08,-54 319.89,-49.22 321.02,-42.86\" fill=\"none\" stroke=\"black\"/>\n<polygon fill=\"black\" points=\"324.43,-42.07 319.32,-32.79 317.53,-43.23 324.43,-42.07\" stroke=\"black\"/>\n<text font-family=\"Times,serif\" font-size=\"14.00\" text-anchor=\"middle\" x=\"303.59\" y=\"-57.8\">1, 0.70189</text>\n</g>\n</g>\n</svg></div>"
     },
     "metadata": {},
     "output_type": "display_data"
    }
   ],
   "source": [
    "render_automaton(pdfa)"
   ],
   "metadata": {
    "collapsed": false,
    "pycharm": {
     "name": "#%%\n"
    }
   }
  },
  {
   "cell_type": "markdown",
   "source": [
    "## References\n",
    "\n",
    "- [1] Palmer N., Goldberg P.W. (2005)\n",
    "  PAC-Learnability of Probabilistic Deterministic\n",
    "  Finite State Automata in Terms of\n",
    "  Variation Distance.\n",
    "  In: Jain S., Simon H.U., Tomita E. (eds)\n",
    "  Algorithmic Learning Theory. ALT 2005.\n",
    "  Lecture Notes in Computer Science, vol 3734.\n",
    "  Springer, Berlin, Heidelberg.\n",
    "  https://doi.org/10.1007/11564089_14"
   ],
   "metadata": {
    "collapsed": false,
    "pycharm": {
     "name": "#%% md\n"
    }
   }
  },
  {
   "cell_type": "code",
   "execution_count": null,
   "outputs": [],
   "source": [],
   "metadata": {
    "collapsed": false,
    "pycharm": {
     "name": "#%%\n"
    }
   }
  }
 ],
 "metadata": {
  "kernelspec": {
   "display_name": "Python 3",
   "language": "python",
   "name": "python3"
  },
  "language_info": {
   "codemirror_mode": {
    "name": "ipython",
    "version": 2
   },
   "file_extension": ".py",
   "mimetype": "text/x-python",
   "name": "python",
   "nbconvert_exporter": "python",
   "pygments_lexer": "ipython2",
   "version": "2.7.6"
  }
 },
 "nbformat": 4,
 "nbformat_minor": 0
}