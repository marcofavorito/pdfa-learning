{
 "cells": [
  {
   "cell_type": "markdown",
   "metadata": {
    "collapsed": true,
    "pycharm": {
     "name": "#%% md\n"
    }
   },
   "source": [
    "## PDFA Learning  (Palmer & Goldberg, 2005)\n",
    "\n",
    "\n",
    "\n",
    "**Note**: this implementation is deprecated. Consider using the implementation of the Balle's algorithm (see the next documentation page)\n",
    "\n",
    "In this notebook, we will show how to\n",
    "use the implementation of PDFA learning,\n",
    "as described in \\[1\\].\n",
    "\n",
    "### Example\n",
    "\n",
    "Utility functions to display SVGs."
   ]
  },
  {
   "cell_type": "code",
   "execution_count": 7,
   "metadata": {
    "pycharm": {
     "name": "#%%\n"
    }
   },
   "outputs": [
    {
     "name": "stderr",
     "output_type": "stream",
     "text": [
      "[2021-01-02 16:14:37,642][matplotlib.pyplot][DEBUG] Loaded backend module://ipykernel.pylab.backend_inline version unknown.\n"
     ]
    }
   ],
   "source": [
    "%matplotlib inline\n",
    "\n",
    "from pprint import pprint\n",
    "\n",
    "from helpers import render_automaton\n",
    "from pdfa_learning.learn_pdfa.base import learn_pdfa, Algorithm\n",
    "from pdfa_learning.learn_pdfa.utils.generator import MultiprocessedGenerator, SimpleGenerator\n",
    "from pdfa_learning.pdfa import PDFA\n"
   ]
  },
  {
   "cell_type": "markdown",
   "metadata": {
    "pycharm": {
     "name": "#%% md\n"
    }
   },
   "source": [
    "## Example with 1 state.\n",
    "\n",
    "Let's use the following automaton to generate samples."
   ]
  },
  {
   "cell_type": "code",
   "execution_count": 8,
   "metadata": {
    "pycharm": {
     "name": "#%%\n"
    }
   },
   "outputs": [
    {
     "name": "stderr",
     "output_type": "stream",
     "text": [
      "[2021-01-02 16:14:39,452][graphviz.files][DEBUG] write 195 bytes to '/tmp/tmpgcaox75a/output'\n",
      "[2021-01-02 16:14:39,455][graphviz.backend][DEBUG] run ['dot', '-Kdot', '-Tsvg', '-O', 'output']\n"
     ]
    },
    {
     "data": {
      "text/html": [
       "<div style=\"display: block; margin-left: auto; margin-right: auto; width: 50%;white-space: nowrap\"><svg height=\"82pt\" viewBox=\"0.00 0.00 420.09 82.50\" width=\"420pt\" xmlns=\"http://www.w3.org/2000/svg\" xmlns:xlink=\"http://www.w3.org/1999/xlink\">\n",
       "<g class=\"graph\" id=\"graph0\" transform=\"scale(1 1) rotate(0) translate(4 78.5)\">\n",
       "<title>%3</title>\n",
       "<polygon fill=\"white\" points=\"-4,4 -4,-78.5 416.09,-78.5 416.09,4 -4,4\" stroke=\"transparent\"/>\n",
       "<!-- fake -->\n",
       "<g class=\"node\" id=\"node1\">\n",
       "<title>fake</title>\n",
       "</g>\n",
       "<!-- 0 -->\n",
       "<g class=\"node\" id=\"node2\">\n",
       "<title>0</title>\n",
       "<ellipse cx=\"125.09\" cy=\"-23.5\" fill=\"none\" rx=\"27\" ry=\"18\" stroke=\"black\"/>\n",
       "<text font-family=\"Times,serif\" font-size=\"14.00\" text-anchor=\"middle\" x=\"125.09\" y=\"-19.8\">0</text>\n",
       "</g>\n",
       "<!-- fake&#45;&gt;0 -->\n",
       "<g class=\"edge\" id=\"edge1\">\n",
       "<title>fake-&gt;0</title>\n",
       "<path d=\"M61.34,-23.5C69.68,-23.5 78.84,-23.5 87.52,-23.5\" fill=\"none\" stroke=\"black\" stroke-width=\"2\"/>\n",
       "<polygon fill=\"black\" points=\"87.79,-27 97.79,-23.5 87.79,-20 87.79,-27\" stroke=\"black\" stroke-width=\"2\"/>\n",
       "</g>\n",
       "<!-- 0&#45;&gt;0 -->\n",
       "<g class=\"edge\" id=\"edge2\">\n",
       "<title>0-&gt;0</title>\n",
       "<path d=\"M117.24,-40.91C115.77,-50.59 118.39,-59.5 125.09,-59.5 129.28,-59.5 131.88,-56.02 132.88,-51.04\" fill=\"none\" stroke=\"black\"/>\n",
       "<polygon fill=\"black\" points=\"136.38,-50.93 132.95,-40.91 129.38,-50.88 136.38,-50.93\" stroke=\"black\"/>\n",
       "<text font-family=\"Times,serif\" font-size=\"14.00\" text-anchor=\"middle\" x=\"125.09\" y=\"-63.3\">0, 0.3</text>\n",
       "</g>\n",
       "<!-- 1 -->\n",
       "<g class=\"node\" id=\"node3\">\n",
       "<title>1</title>\n",
       "<ellipse cx=\"256.09\" cy=\"-23.5\" fill=\"none\" rx=\"27\" ry=\"18\" stroke=\"black\"/>\n",
       "<text font-family=\"Times,serif\" font-size=\"14.00\" text-anchor=\"middle\" x=\"256.09\" y=\"-19.8\">1</text>\n",
       "</g>\n",
       "<!-- 0&#45;&gt;1 -->\n",
       "<g class=\"edge\" id=\"edge3\">\n",
       "<title>0-&gt;1</title>\n",
       "<path d=\"M152.2,-23.5C171.35,-23.5 197.59,-23.5 218.78,-23.5\" fill=\"none\" stroke=\"black\"/>\n",
       "<polygon fill=\"black\" points=\"219.03,-27 229.03,-23.5 219.03,-20 219.03,-27\" stroke=\"black\"/>\n",
       "<text font-family=\"Times,serif\" font-size=\"14.00\" text-anchor=\"middle\" x=\"190.59\" y=\"-27.3\">1, 0.7</text>\n",
       "</g>\n",
       "<!-- &#45;1 -->\n",
       "<g class=\"node\" id=\"node4\">\n",
       "<title>-1</title>\n",
       "<ellipse cx=\"388.59\" cy=\"-23.5\" fill=\"none\" rx=\"19.5\" ry=\"19.5\" stroke=\"black\"/>\n",
       "<ellipse cx=\"388.59\" cy=\"-23.5\" fill=\"none\" rx=\"23.5\" ry=\"23.5\" stroke=\"black\"/>\n",
       "<text font-family=\"Times,serif\" font-size=\"14.00\" text-anchor=\"middle\" x=\"388.59\" y=\"-19.8\">-1</text>\n",
       "</g>\n",
       "<!-- 1&#45;&gt;&#45;1 -->\n",
       "<g class=\"edge\" id=\"edge4\">\n",
       "<title>1-&gt;-1</title>\n",
       "<path d=\"M283.19,-23.5C303.77,-23.5 332.6,-23.5 354.75,-23.5\" fill=\"none\" stroke=\"black\"/>\n",
       "<polygon fill=\"black\" points=\"355.03,-27 365.03,-23.5 355.03,-20 355.03,-27\" stroke=\"black\"/>\n",
       "<text font-family=\"Times,serif\" font-size=\"14.00\" text-anchor=\"middle\" x=\"324.09\" y=\"-27.3\">-1, 1.0</text>\n",
       "</g>\n",
       "</g>\n",
       "</svg></div>"
      ],
      "text/plain": [
       "<IPython.core.display.HTML object>"
      ]
     },
     "metadata": {},
     "output_type": "display_data"
    }
   ],
   "source": [
    "p = 0.3\n",
    "automaton = PDFA(\n",
    "    nb_states=2,\n",
    "    alphabet_size=2,\n",
    "    transition_dict={\n",
    "        0: {\n",
    "            0: (0, p),\n",
    "            1: (1, 1 - p),\n",
    "        },\n",
    "        1: {-1: (-1, 1.0)}\n",
    "    }\n",
    ")\n",
    "render_automaton(automaton)"
   ]
  },
  {
   "cell_type": "markdown",
   "metadata": {
    "pycharm": {
     "name": "#%% md\n"
    }
   },
   "source": [
    "Now we will run the PAC learning algorithm\n",
    "to learn the above automaton.\n",
    "\n",
    "- `MultiprocessedGenerator` wraps the automaton and generates\n",
    "  samples using multiple processes;\n",
    "- `learn_pdfa` is the main entrypoint of the algorithm implementation.\n",
    "- `n1_max_debug` is the maximum number for $N_1$ (for the subgraph learning)\n",
    "- `n2_max_debug` is the maximum number for $N_2$ (for the probabilities learning)\n",
    "- `m0_max_debug` is the maximum number for $m_0$ (for multiset filtering)"
   ]
  },
  {
   "cell_type": "code",
   "execution_count": 9,
   "metadata": {
    "pycharm": {
     "name": "#%%\n"
    }
   },
   "outputs": [
    {
     "name": "stderr",
     "output_type": "stream",
     "text": [
      "[2021-01-02 16:14:40,743][pdfa_learning.learn_pdfa][INFO] Parameters: ('PalmerParams(sample_generator=<pdfa_learning.learn_pdfa.utils.generator.MultiprocessedGenerator '\n",
      " 'object at 0x7f2aabd60f10>, alphabet_size=2, epsilon=0.2, delta_1=0.2, '\n",
      " 'delta_2=0.2, mu=0.1, n=3, m0_max_debug=10000.0, n1_max_debug=100000, '\n",
      " 'n2_max_debug=100000)')\n",
      "[2021-01-02 16:14:40,745][pdfa_learning.learn_pdfa][INFO] N1 = 54432.579348157145, N2 = 55998960.0. Chosen: 55998960\n",
      "[2021-01-02 16:14:40,745][pdfa_learning.learn_pdfa][INFO] m0 = 466658\n",
      "[2021-01-02 16:14:40,746][pdfa_learning.learn_pdfa][INFO] N = 55998960\n",
      "[2021-01-02 16:14:40,746][pdfa_learning.learn_pdfa][INFO] using m0 = 10000.0, N = 100000\n",
      "[2021-01-02 16:14:42,789][pdfa_learning.learn_pdfa][INFO] Sampling done.\n",
      "[2021-01-02 16:14:42,790][pdfa_learning.learn_pdfa][INFO] Number of samples: 100000.\n",
      "[2021-01-02 16:14:42,793][pdfa_learning.learn_pdfa][INFO] Avg. length of samples: 2.43472.\n",
      "[2021-01-02 16:14:42,908][pdfa_learning.learn_pdfa][INFO] Iteration 0\n",
      "[2021-01-02 16:14:43,152][pdfa_learning.learn_pdfa][INFO] Iteration 1\n",
      "[2021-01-02 16:14:43,307][pdfa_learning.learn_pdfa][INFO] Iteration 2\n",
      "[2021-01-02 16:14:43,435][pdfa_learning.learn_pdfa][INFO] Vertices: {0, 1}\n",
      "[2021-01-02 16:14:43,436][pdfa_learning.learn_pdfa][INFO] Transitions: {0: {-1: -1, 0: 0, 1: 1}, 1: {-1: -1}}\n",
      "[2021-01-02 16:14:43,436][pdfa_learning.learn_pdfa][INFO] Computed final node: -1 (no outgoing transitions)\n",
      "[2021-01-02 16:14:43,438][pdfa_learning.learn_pdfa][INFO] Number of vertices: 2.\n",
      "[2021-01-02 16:14:43,439][pdfa_learning.learn_pdfa][INFO] Transitions: {0: {-1: -1, 0: 0, 1: 1}, 1: {-1: -1}}.\n",
      "[2021-01-02 16:14:43,440][pdfa_learning.learn_pdfa][INFO] Start learning probabilities.\n",
      "[2021-01-02 16:14:43,440][pdfa_learning.learn_pdfa][INFO] Sample size: 21734484183613.\n",
      "[2021-01-02 16:14:43,441][pdfa_learning.learn_pdfa][INFO] Using N = 100000.\n",
      "[2021-01-02 16:14:45,992][pdfa_learning.learn_pdfa][INFO] Computed vertices: {0, 1}\n",
      "[2021-01-02 16:14:45,993][pdfa_learning.learn_pdfa][INFO] Computed transition dictionary: {0: {-1: (-1, 0.0), 0: (0, 0.30019034822528273), 1: (1, 0.6998096517747173)},\n",
      " 1: {-1: (-1, 1.0)}}\n"
     ]
    }
   ],
   "source": [
    "generator = MultiprocessedGenerator(SimpleGenerator(automaton), nb_processes=8)\n",
    "\n",
    "pdfa = learn_pdfa(\n",
    "    algorithm=Algorithm.PALMER,\n",
    "    sample_generator=generator,\n",
    "    alphabet_size=2,\n",
    "    epsilon=0.2,\n",
    "    delta_1=0.2,\n",
    "    delta_2=0.2,\n",
    "    mu=0.1,\n",
    "    n=3,\n",
    "    n1_max_debug=100000,\n",
    "    n2_max_debug=100000,\n",
    "    m0_max_debug=100000 / 10,\n",
    ")"
   ]
  },
  {
   "cell_type": "markdown",
   "metadata": {
    "pycharm": {
     "name": "#%% md\n"
    }
   },
   "source": [
    "The learned automaton is:"
   ]
  },
  {
   "cell_type": "code",
   "execution_count": 10,
   "metadata": {
    "pycharm": {
     "name": "#%%\n"
    }
   },
   "outputs": [
    {
     "name": "stderr",
     "output_type": "stream",
     "text": [
      "[2021-01-02 16:14:46,001][graphviz.files][DEBUG] write 203 bytes to '/tmp/tmpgq7qad18/output'\n",
      "[2021-01-02 16:14:46,067][graphviz.backend][DEBUG] run ['dot', '-Kdot', '-Tsvg', '-O', 'output']\n"
     ]
    },
    {
     "name": "stdout",
     "output_type": "stream",
     "text": [
      "Transitions: \n",
      "{(0, -1, 0.0, -1),\n",
      " (0, 0, 0.30019034822528273, 0),\n",
      " (0, 1, 0.6998096517747173, 1),\n",
      " (1, -1, 1.0, -1)}\n"
     ]
    },
    {
     "data": {
      "text/html": [
       "<div style=\"display: block; margin-left: auto; margin-right: auto; width: 50%;white-space: nowrap\"><svg height=\"82pt\" viewBox=\"0.00 0.00 456.09 82.50\" width=\"456pt\" xmlns=\"http://www.w3.org/2000/svg\" xmlns:xlink=\"http://www.w3.org/1999/xlink\">\n",
       "<g class=\"graph\" id=\"graph0\" transform=\"scale(1 1) rotate(0) translate(4 78.5)\">\n",
       "<title>%3</title>\n",
       "<polygon fill=\"white\" points=\"-4,4 -4,-78.5 452.09,-78.5 452.09,4 -4,4\" stroke=\"transparent\"/>\n",
       "<!-- fake -->\n",
       "<g class=\"node\" id=\"node1\">\n",
       "<title>fake</title>\n",
       "</g>\n",
       "<!-- 0 -->\n",
       "<g class=\"node\" id=\"node2\">\n",
       "<title>0</title>\n",
       "<ellipse cx=\"125.09\" cy=\"-23.5\" fill=\"none\" rx=\"27\" ry=\"18\" stroke=\"black\"/>\n",
       "<text font-family=\"Times,serif\" font-size=\"14.00\" text-anchor=\"middle\" x=\"125.09\" y=\"-19.8\">0</text>\n",
       "</g>\n",
       "<!-- fake&#45;&gt;0 -->\n",
       "<g class=\"edge\" id=\"edge1\">\n",
       "<title>fake-&gt;0</title>\n",
       "<path d=\"M61.34,-23.5C69.68,-23.5 78.84,-23.5 87.52,-23.5\" fill=\"none\" stroke=\"black\" stroke-width=\"2\"/>\n",
       "<polygon fill=\"black\" points=\"87.79,-27 97.79,-23.5 87.79,-20 87.79,-27\" stroke=\"black\" stroke-width=\"2\"/>\n",
       "</g>\n",
       "<!-- 0&#45;&gt;0 -->\n",
       "<g class=\"edge\" id=\"edge3\">\n",
       "<title>0-&gt;0</title>\n",
       "<path d=\"M117.24,-40.91C115.77,-50.59 118.39,-59.5 125.09,-59.5 129.28,-59.5 131.88,-56.02 132.88,-51.04\" fill=\"none\" stroke=\"black\"/>\n",
       "<polygon fill=\"black\" points=\"136.38,-50.93 132.95,-40.91 129.38,-50.88 136.38,-50.93\" stroke=\"black\"/>\n",
       "<text font-family=\"Times,serif\" font-size=\"14.00\" text-anchor=\"middle\" x=\"125.09\" y=\"-63.3\">0, 0.30019</text>\n",
       "</g>\n",
       "<!-- 1 -->\n",
       "<g class=\"node\" id=\"node3\">\n",
       "<title>1</title>\n",
       "<ellipse cx=\"292.09\" cy=\"-23.5\" fill=\"none\" rx=\"27\" ry=\"18\" stroke=\"black\"/>\n",
       "<text font-family=\"Times,serif\" font-size=\"14.00\" text-anchor=\"middle\" x=\"292.09\" y=\"-19.8\">1</text>\n",
       "</g>\n",
       "<!-- 0&#45;&gt;1 -->\n",
       "<g class=\"edge\" id=\"edge2\">\n",
       "<title>0-&gt;1</title>\n",
       "<path d=\"M152.24,-23.5C179.88,-23.5 223.68,-23.5 254.69,-23.5\" fill=\"none\" stroke=\"black\"/>\n",
       "<polygon fill=\"black\" points=\"255.07,-27 265.07,-23.5 255.07,-20 255.07,-27\" stroke=\"black\"/>\n",
       "<text font-family=\"Times,serif\" font-size=\"14.00\" text-anchor=\"middle\" x=\"208.59\" y=\"-27.3\">1, 0.69981</text>\n",
       "</g>\n",
       "<!-- &#45;1 -->\n",
       "<g class=\"node\" id=\"node4\">\n",
       "<title>-1</title>\n",
       "<ellipse cx=\"424.59\" cy=\"-23.5\" fill=\"none\" rx=\"19.5\" ry=\"19.5\" stroke=\"black\"/>\n",
       "<ellipse cx=\"424.59\" cy=\"-23.5\" fill=\"none\" rx=\"23.5\" ry=\"23.5\" stroke=\"black\"/>\n",
       "<text font-family=\"Times,serif\" font-size=\"14.00\" text-anchor=\"middle\" x=\"424.59\" y=\"-19.8\">-1</text>\n",
       "</g>\n",
       "<!-- 1&#45;&gt;&#45;1 -->\n",
       "<g class=\"edge\" id=\"edge4\">\n",
       "<title>1-&gt;-1</title>\n",
       "<path d=\"M319.19,-23.5C339.77,-23.5 368.6,-23.5 390.75,-23.5\" fill=\"none\" stroke=\"black\"/>\n",
       "<polygon fill=\"black\" points=\"391.03,-27 401.03,-23.5 391.03,-20 391.03,-27\" stroke=\"black\"/>\n",
       "<text font-family=\"Times,serif\" font-size=\"14.00\" text-anchor=\"middle\" x=\"360.09\" y=\"-27.3\">-1, 1.0</text>\n",
       "</g>\n",
       "</g>\n",
       "</svg></div>"
      ],
      "text/plain": [
       "<IPython.core.display.HTML object>"
      ]
     },
     "metadata": {},
     "output_type": "display_data"
    }
   ],
   "source": [
    "print(\"Transitions: \")\n",
    "pprint(pdfa.transitions)\n",
    "render_automaton(pdfa)"
   ]
  },
  {
   "cell_type": "markdown",
   "metadata": {},
   "source": [
    "## Example with 2 states.\n",
    "\n",
    "Now let's try to learn the following automaton:"
   ]
  },
  {
   "cell_type": "code",
   "execution_count": 11,
   "metadata": {
    "pycharm": {
     "name": "#%%\n"
    }
   },
   "outputs": [
    {
     "name": "stderr",
     "output_type": "stream",
     "text": [
      "[2021-01-02 16:14:46,168][graphviz.files][DEBUG] write 248 bytes to '/tmp/tmp1ryjqa9g/output'\n",
      "[2021-01-02 16:14:46,170][graphviz.backend][DEBUG] run ['dot', '-Kdot', '-Tsvg', '-O', 'output']\n"
     ]
    },
    {
     "data": {
      "text/html": [
       "<div style=\"display: block; margin-left: auto; margin-right: auto; width: 50%;white-space: nowrap\"><svg height=\"117pt\" viewBox=\"0.00 0.00 551.09 117.50\" width=\"551pt\" xmlns=\"http://www.w3.org/2000/svg\" xmlns:xlink=\"http://www.w3.org/1999/xlink\">\n",
       "<g class=\"graph\" id=\"graph0\" transform=\"scale(1 1) rotate(0) translate(4 113.5)\">\n",
       "<title>%3</title>\n",
       "<polygon fill=\"white\" points=\"-4,4 -4,-113.5 547.09,-113.5 547.09,4 -4,4\" stroke=\"transparent\"/>\n",
       "<!-- fake -->\n",
       "<g class=\"node\" id=\"node1\">\n",
       "<title>fake</title>\n",
       "</g>\n",
       "<!-- 0 -->\n",
       "<g class=\"node\" id=\"node2\">\n",
       "<title>0</title>\n",
       "<ellipse cx=\"125.09\" cy=\"-23.5\" fill=\"none\" rx=\"27\" ry=\"18\" stroke=\"black\"/>\n",
       "<text font-family=\"Times,serif\" font-size=\"14.00\" text-anchor=\"middle\" x=\"125.09\" y=\"-19.8\">0</text>\n",
       "</g>\n",
       "<!-- fake&#45;&gt;0 -->\n",
       "<g class=\"edge\" id=\"edge1\">\n",
       "<title>fake-&gt;0</title>\n",
       "<path d=\"M61.34,-23.5C69.68,-23.5 78.84,-23.5 87.52,-23.5\" fill=\"none\" stroke=\"black\" stroke-width=\"2\"/>\n",
       "<polygon fill=\"black\" points=\"87.79,-27 97.79,-23.5 87.79,-20 87.79,-27\" stroke=\"black\" stroke-width=\"2\"/>\n",
       "</g>\n",
       "<!-- 1 -->\n",
       "<g class=\"node\" id=\"node3\">\n",
       "<title>1</title>\n",
       "<ellipse cx=\"256.09\" cy=\"-58.5\" fill=\"none\" rx=\"27\" ry=\"18\" stroke=\"black\"/>\n",
       "<text font-family=\"Times,serif\" font-size=\"14.00\" text-anchor=\"middle\" x=\"256.09\" y=\"-54.8\">1</text>\n",
       "</g>\n",
       "<!-- 0&#45;&gt;1 -->\n",
       "<g class=\"edge\" id=\"edge2\">\n",
       "<title>0-&gt;1</title>\n",
       "<path d=\"M150.36,-30.08C170.36,-35.51 198.95,-43.27 221.21,-49.31\" fill=\"none\" stroke=\"black\"/>\n",
       "<polygon fill=\"black\" points=\"220.37,-52.7 230.94,-51.94 222.2,-45.95 220.37,-52.7\" stroke=\"black\"/>\n",
       "<text font-family=\"Times,serif\" font-size=\"14.00\" text-anchor=\"middle\" x=\"190.59\" y=\"-49.3\">0, 0.4</text>\n",
       "</g>\n",
       "<!-- 2 -->\n",
       "<g class=\"node\" id=\"node4\">\n",
       "<title>2</title>\n",
       "<ellipse cx=\"387.09\" cy=\"-23.5\" fill=\"none\" rx=\"27\" ry=\"18\" stroke=\"black\"/>\n",
       "<text font-family=\"Times,serif\" font-size=\"14.00\" text-anchor=\"middle\" x=\"387.09\" y=\"-19.8\">2</text>\n",
       "</g>\n",
       "<!-- 0&#45;&gt;2 -->\n",
       "<g class=\"edge\" id=\"edge3\">\n",
       "<title>0-&gt;2</title>\n",
       "<path d=\"M151.89,-21.26C172.71,-19.57 202.76,-17.39 229.09,-16.5 253.08,-15.68 259.11,-15.68 283.09,-16.5 305.42,-17.26 330.41,-18.93 350.19,-20.46\" fill=\"none\" stroke=\"black\"/>\n",
       "<polygon fill=\"black\" points=\"350.05,-23.96 360.3,-21.26 350.61,-16.98 350.05,-23.96\" stroke=\"black\"/>\n",
       "<text font-family=\"Times,serif\" font-size=\"14.00\" text-anchor=\"middle\" x=\"256.09\" y=\"-20.3\">1, 0.6</text>\n",
       "</g>\n",
       "<!-- 1&#45;&gt;1 -->\n",
       "<g class=\"edge\" id=\"edge5\">\n",
       "<title>1-&gt;1</title>\n",
       "<path d=\"M244.84,-75.16C242.34,-85.12 246.09,-94.5 256.09,-94.5 262.5,-94.5 266.34,-90.65 267.62,-85.27\" fill=\"none\" stroke=\"black\"/>\n",
       "<polygon fill=\"black\" points=\"271.11,-85.06 267.34,-75.16 264.12,-85.25 271.11,-85.06\" stroke=\"black\"/>\n",
       "<text font-family=\"Times,serif\" font-size=\"14.00\" text-anchor=\"middle\" x=\"256.09\" y=\"-98.3\">1, 0.7</text>\n",
       "</g>\n",
       "<!-- 1&#45;&gt;2 -->\n",
       "<g class=\"edge\" id=\"edge4\">\n",
       "<title>1-&gt;2</title>\n",
       "<path d=\"M281.36,-51.92C301.36,-46.49 329.95,-38.73 352.21,-32.69\" fill=\"none\" stroke=\"black\"/>\n",
       "<polygon fill=\"black\" points=\"353.2,-36.05 361.94,-30.05 351.37,-29.29 353.2,-36.05\" stroke=\"black\"/>\n",
       "<text font-family=\"Times,serif\" font-size=\"14.00\" text-anchor=\"middle\" x=\"321.59\" y=\"-49.3\">0, 0.3</text>\n",
       "</g>\n",
       "<!-- &#45;1 -->\n",
       "<g class=\"node\" id=\"node5\">\n",
       "<title>-1</title>\n",
       "<ellipse cx=\"519.59\" cy=\"-23.5\" fill=\"none\" rx=\"19.5\" ry=\"19.5\" stroke=\"black\"/>\n",
       "<ellipse cx=\"519.59\" cy=\"-23.5\" fill=\"none\" rx=\"23.5\" ry=\"23.5\" stroke=\"black\"/>\n",
       "<text font-family=\"Times,serif\" font-size=\"14.00\" text-anchor=\"middle\" x=\"519.59\" y=\"-19.8\">-1</text>\n",
       "</g>\n",
       "<!-- 2&#45;&gt;&#45;1 -->\n",
       "<g class=\"edge\" id=\"edge6\">\n",
       "<title>2-&gt;-1</title>\n",
       "<path d=\"M414.19,-23.5C434.77,-23.5 463.6,-23.5 485.75,-23.5\" fill=\"none\" stroke=\"black\"/>\n",
       "<polygon fill=\"black\" points=\"486.03,-27 496.03,-23.5 486.03,-20 486.03,-27\" stroke=\"black\"/>\n",
       "<text font-family=\"Times,serif\" font-size=\"14.00\" text-anchor=\"middle\" x=\"455.09\" y=\"-27.3\">-1, 1.0</text>\n",
       "</g>\n",
       "</g>\n",
       "</svg></div>"
      ],
      "text/plain": [
       "<IPython.core.display.HTML object>"
      ]
     },
     "metadata": {},
     "output_type": "display_data"
    }
   ],
   "source": [
    "p1 = 0.4\n",
    "p2 = 0.7\n",
    "automaton = PDFA(\n",
    "    3,\n",
    "    2,\n",
    "    {\n",
    "        0: {\n",
    "            0: (1, p1),\n",
    "            1: (2, 1 - p1),\n",
    "        },\n",
    "        1: {\n",
    "            0: (2, 1 - p2),\n",
    "            1: (1, p2),\n",
    "        },\n",
    "        2: {\n",
    "            -1: (-1, 1.0)\n",
    "        }\n",
    "    },\n",
    ")\n",
    "render_automaton(automaton)\n"
   ]
  },
  {
   "cell_type": "code",
   "execution_count": 12,
   "metadata": {
    "pycharm": {
     "name": "#%%\n"
    }
   },
   "outputs": [
    {
     "name": "stderr",
     "output_type": "stream",
     "text": [
      "[2021-01-02 16:14:46,289][pdfa_learning.learn_pdfa][INFO] Parameters: ('PalmerParams(sample_generator=<pdfa_learning.learn_pdfa.utils.generator.MultiprocessedGenerator '\n",
      " 'object at 0x7f2a76456710>, alphabet_size=2, epsilon=0.2, delta_1=0.2, '\n",
      " 'delta_2=0.2, mu=0.1, n=3, m0_max_debug=300000.0, n1_max_debug=3000000, '\n",
      " 'n2_max_debug=1000000)')\n",
      "[2021-01-02 16:14:46,291][pdfa_learning.learn_pdfa][INFO] N1 = 54432.579348157145, N2 = 55998960.0. Chosen: 55998960\n",
      "[2021-01-02 16:14:46,292][pdfa_learning.learn_pdfa][INFO] m0 = 466658\n",
      "[2021-01-02 16:14:46,293][pdfa_learning.learn_pdfa][INFO] N = 55998960\n",
      "[2021-01-02 16:14:46,294][pdfa_learning.learn_pdfa][INFO] using m0 = 300000.0, N = 3000000\n",
      "[2021-01-02 16:17:14,294][pdfa_learning.learn_pdfa][INFO] Sampling done.\n",
      "[2021-01-02 16:17:14,296][pdfa_learning.learn_pdfa][INFO] Number of samples: 3000000.\n",
      "[2021-01-02 16:17:14,417][pdfa_learning.learn_pdfa][INFO] Avg. length of samples: 3.3331573333333333.\n",
      "[2021-01-02 16:17:18,827][pdfa_learning.learn_pdfa][INFO] Iteration 0\n",
      "[2021-01-02 16:17:30,301][pdfa_learning.learn_pdfa][INFO] Iteration 1\n",
      "[2021-01-02 16:17:37,928][pdfa_learning.learn_pdfa][INFO] Iteration 2\n",
      "[2021-01-02 16:17:47,846][pdfa_learning.learn_pdfa][INFO] Iteration 3\n",
      "[2021-01-02 16:17:58,387][pdfa_learning.learn_pdfa][INFO] Iteration 4\n",
      "[2021-01-02 16:18:06,808][pdfa_learning.learn_pdfa][INFO] Vertices: {0, 1, 2}\n",
      "[2021-01-02 16:18:06,811][pdfa_learning.learn_pdfa][INFO] Transitions: {0: {-1: -1, 0: 2, 1: 1}, 1: {-1: -1}, 2: {-1: -1, 0: 1, 1: 2}}\n",
      "[2021-01-02 16:18:06,813][pdfa_learning.learn_pdfa][INFO] Computed final node: -1 (no outgoing transitions)\n",
      "[2021-01-02 16:18:06,903][pdfa_learning.learn_pdfa][INFO] Number of vertices: 3.\n",
      "[2021-01-02 16:18:06,904][pdfa_learning.learn_pdfa][INFO] Transitions: {0: {-1: -1, 0: 2, 1: 1}, 1: {-1: -1}, 2: {-1: -1, 0: 1, 1: 2}}.\n",
      "[2021-01-02 16:18:06,904][pdfa_learning.learn_pdfa][INFO] Start learning probabilities.\n",
      "[2021-01-02 16:18:06,905][pdfa_learning.learn_pdfa][INFO] Sample size: 21734484183613.\n",
      "[2021-01-02 16:18:06,906][pdfa_learning.learn_pdfa][INFO] Using N = 1000000.\n",
      "[2021-01-02 16:19:04,326][pdfa_learning.learn_pdfa][INFO] Computed vertices: {0, 1, 2}\n",
      "[2021-01-02 16:19:04,327][pdfa_learning.learn_pdfa][INFO] Computed transition dictionary: {0: {-1: (-1, 0.0), 0: (2, 0.399264), 1: (1, 0.600736)},\n",
      " 1: {-1: (-1, 1.0)},\n",
      " 2: {-1: (-1, 0.0), 0: (1, 0.30008658425128676), 1: (2, 0.6999134157487132)}}\n"
     ]
    }
   ],
   "source": [
    "generator = MultiprocessedGenerator(SimpleGenerator(automaton), nb_processes=8)\n",
    "\n",
    "pdfa = learn_pdfa(\n",
    "    algorithm=Algorithm.PALMER,\n",
    "    sample_generator=generator,\n",
    "    alphabet_size=2,\n",
    "    epsilon=0.2,\n",
    "    delta_1=0.2,\n",
    "    delta_2=0.2,\n",
    "    mu=0.1,\n",
    "    n=3,\n",
    "    n1_max_debug=3000000,\n",
    "    n2_max_debug=1000000,\n",
    "    m0_max_debug=3000000 / 10,\n",
    ")"
   ]
  },
  {
   "cell_type": "code",
   "execution_count": 2,
   "metadata": {
    "pycharm": {
     "name": "#%%\n"
    },
    "scrolled": true
   },
   "outputs": [
    {
     "ename": "NameError",
     "evalue": "name 'render_automaton' is not defined",
     "output_type": "error",
     "traceback": [
      "\u001b[0;31m---------------------------------------------------------------------------\u001b[0m",
      "\u001b[0;31mNameError\u001b[0m                                 Traceback (most recent call last)",
      "\u001b[0;32m<ipython-input-2-5f1d6655d94a>\u001b[0m in \u001b[0;36m<module>\u001b[0;34m\u001b[0m\n\u001b[0;32m----> 1\u001b[0;31m \u001b[0mrender_automaton\u001b[0m\u001b[0;34m(\u001b[0m\u001b[0mpdfa\u001b[0m\u001b[0;34m)\u001b[0m\u001b[0;34m\u001b[0m\u001b[0;34m\u001b[0m\u001b[0m\n\u001b[0m",
      "\u001b[0;31mNameError\u001b[0m: name 'render_automaton' is not defined"
     ]
    }
   ],
   "source": [
    "\n",
    "render_automaton(pdfa)"
   ]
  },
  {
   "cell_type": "markdown",
   "metadata": {},
   "source": [
    " Palmer N., Goldberg P.W. (2005)\n",
    "  PAC-Learnability of Probabilistic Deterministic\n",
    "  Finite State Automata in Terms of\n",
    "  Variation Distance.\n",
    "  In: Jain S., Simon H.U., Tomita E. (eds)\n",
    "  Algorithmic Learning Theory. ALT 2005.\n",
    "  Lecture Notes in Computer Science, vol 3734.\n",
    "  Springer, Berlin, Heidelberg.\n",
    "  https://doi.org/10.1007/11564089_14\n"
   ]
  },
  {
   "cell_type": "code",
   "execution_count": null,
   "metadata": {},
   "outputs": [],
   "source": []
  }
 ],
 "metadata": {
  "kernelspec": {
   "display_name": "Python 3",
   "language": "python",
   "name": "python3"
  },
  "language_info": {
   "codemirror_mode": {
    "name": "ipython",
    "version": 3
   },
   "file_extension": ".py",
   "mimetype": "text/x-python",
   "name": "python",
   "nbconvert_exporter": "python",
   "pygments_lexer": "ipython3",
   "version": "3.7.6"
  }
 },
 "nbformat": 4,
 "nbformat_minor": 1
}
