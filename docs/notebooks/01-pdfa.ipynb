{
 "cells": [
  {
   "cell_type": "markdown",
   "metadata": {
    "collapsed": true,
    "pycharm": {
     "name": "#%% md\n"
    }
   },
   "source": [
    "## PDFA\n",
    "\n",
    "In this notebook, we will see how to\n",
    "use the `PDFA` class.\n",
    "\n",
    "### Example\n",
    "\n",
    "Utility functions to display SVGs."
   ]
  },
  {
   "cell_type": "code",
   "execution_count": 1,
   "metadata": {
    "pycharm": {
     "name": "#%%\n"
    }
   },
   "outputs": [],
   "source": [
    "%matplotlib inline\n",
    "\n",
    "import numpy as np\n",
    "\n",
    "from pdfa_learning.pdfa import PDFA\n",
    "from helpers import render_automaton\n"
   ]
  },
  {
   "cell_type": "markdown",
   "metadata": {
    "pycharm": {
     "name": "#%% md\n"
    }
   },
   "source": [
    "The following automaton captures all the\n",
    "sequences of _only_ heads, followed by one tail."
   ]
  },
  {
   "cell_type": "code",
   "execution_count": 2,
   "metadata": {
    "pycharm": {
     "name": "#%%\n"
    }
   },
   "outputs": [
    {
     "data": {
      "text/html": [
       "<div style=\"display: block; margin-left: auto; margin-right: auto; width: 50%;white-space: nowrap\"><svg height=\"82pt\" viewBox=\"0.00 0.00 420.09 82.50\" width=\"420pt\" xmlns=\"http://www.w3.org/2000/svg\" xmlns:xlink=\"http://www.w3.org/1999/xlink\">\n",
       "<g class=\"graph\" id=\"graph0\" transform=\"scale(1 1) rotate(0) translate(4 78.5)\">\n",
       "<title>%3</title>\n",
       "<polygon fill=\"white\" points=\"-4,4 -4,-78.5 416.09,-78.5 416.09,4 -4,4\" stroke=\"transparent\"/>\n",
       "<!-- fake -->\n",
       "<g class=\"node\" id=\"node1\">\n",
       "<title>fake</title>\n",
       "</g>\n",
       "<!-- 0 -->\n",
       "<g class=\"node\" id=\"node2\">\n",
       "<title>0</title>\n",
       "<ellipse cx=\"125.09\" cy=\"-23.5\" fill=\"none\" rx=\"27\" ry=\"18\" stroke=\"black\"/>\n",
       "<text font-family=\"Times,serif\" font-size=\"14.00\" text-anchor=\"middle\" x=\"125.09\" y=\"-19.8\">0</text>\n",
       "</g>\n",
       "<!-- fake&#45;&gt;0 -->\n",
       "<g class=\"edge\" id=\"edge1\">\n",
       "<title>fake-&gt;0</title>\n",
       "<path d=\"M61.34,-23.5C69.68,-23.5 78.84,-23.5 87.52,-23.5\" fill=\"none\" stroke=\"black\" stroke-width=\"2\"/>\n",
       "<polygon fill=\"black\" points=\"87.79,-27 97.79,-23.5 87.79,-20 87.79,-27\" stroke=\"black\" stroke-width=\"2\"/>\n",
       "</g>\n",
       "<!-- 0&#45;&gt;0 -->\n",
       "<g class=\"edge\" id=\"edge2\">\n",
       "<title>0-&gt;0</title>\n",
       "<path d=\"M117.24,-40.91C115.77,-50.59 118.39,-59.5 125.09,-59.5 129.28,-59.5 131.88,-56.02 132.88,-51.04\" fill=\"none\" stroke=\"black\"/>\n",
       "<polygon fill=\"black\" points=\"136.38,-50.93 132.95,-40.91 129.38,-50.88 136.38,-50.93\" stroke=\"black\"/>\n",
       "<text font-family=\"Times,serif\" font-size=\"14.00\" text-anchor=\"middle\" x=\"125.09\" y=\"-63.3\">0, 0.5</text>\n",
       "</g>\n",
       "<!-- 1 -->\n",
       "<g class=\"node\" id=\"node3\">\n",
       "<title>1</title>\n",
       "<ellipse cx=\"256.09\" cy=\"-23.5\" fill=\"none\" rx=\"27\" ry=\"18\" stroke=\"black\"/>\n",
       "<text font-family=\"Times,serif\" font-size=\"14.00\" text-anchor=\"middle\" x=\"256.09\" y=\"-19.8\">1</text>\n",
       "</g>\n",
       "<!-- 0&#45;&gt;1 -->\n",
       "<g class=\"edge\" id=\"edge3\">\n",
       "<title>0-&gt;1</title>\n",
       "<path d=\"M152.2,-23.5C171.35,-23.5 197.59,-23.5 218.78,-23.5\" fill=\"none\" stroke=\"black\"/>\n",
       "<polygon fill=\"black\" points=\"219.03,-27 229.03,-23.5 219.03,-20 219.03,-27\" stroke=\"black\"/>\n",
       "<text font-family=\"Times,serif\" font-size=\"14.00\" text-anchor=\"middle\" x=\"190.59\" y=\"-27.3\">1, 0.5</text>\n",
       "</g>\n",
       "<!-- &#45;1 -->\n",
       "<g class=\"node\" id=\"node4\">\n",
       "<title>-1</title>\n",
       "<ellipse cx=\"388.59\" cy=\"-23.5\" fill=\"none\" rx=\"19.5\" ry=\"19.5\" stroke=\"black\"/>\n",
       "<ellipse cx=\"388.59\" cy=\"-23.5\" fill=\"none\" rx=\"23.5\" ry=\"23.5\" stroke=\"black\"/>\n",
       "<text font-family=\"Times,serif\" font-size=\"14.00\" text-anchor=\"middle\" x=\"388.59\" y=\"-19.8\">-1</text>\n",
       "</g>\n",
       "<!-- 1&#45;&gt;&#45;1 -->\n",
       "<g class=\"edge\" id=\"edge4\">\n",
       "<title>1-&gt;-1</title>\n",
       "<path d=\"M283.19,-23.5C303.77,-23.5 332.6,-23.5 354.75,-23.5\" fill=\"none\" stroke=\"black\"/>\n",
       "<polygon fill=\"black\" points=\"355.03,-27 365.03,-23.5 355.03,-20 355.03,-27\" stroke=\"black\"/>\n",
       "<text font-family=\"Times,serif\" font-size=\"14.00\" text-anchor=\"middle\" x=\"324.09\" y=\"-27.3\">-1, 1.0</text>\n",
       "</g>\n",
       "</g>\n",
       "</svg></div>"
      ],
      "text/plain": [
       "<IPython.core.display.HTML object>"
      ]
     },
     "metadata": {},
     "output_type": "display_data"
    }
   ],
   "source": [
    "def make_automaton(p: float = 0.5) -> PDFA:\n",
    "    \"\"\"\n",
    "    Make the PDFA for the heads and tail example.\n",
    "\n",
    "    :param p: the probability of getting head.\n",
    "    :return: the PDFA.\n",
    "    \"\"\"\n",
    "    return PDFA(\n",
    "        nb_states=2,\n",
    "        alphabet_size=2,\n",
    "        transition_dict={\n",
    "            0: {\n",
    "                0: (0, p),\n",
    "                1: (1, 1 - p),\n",
    "            },\n",
    "            1: {\n",
    "                -1: (-1, 1.0)\n",
    "            }\n",
    "        }\n",
    "    )\n",
    "\n",
    "automaton = make_automaton(0.5)\n",
    "render_automaton(automaton)"
   ]
  },
  {
   "cell_type": "markdown",
   "metadata": {
    "pycharm": {
     "name": "#%% md\n"
    }
   },
   "source": [
    "Sample a word from the PDFA above."
   ]
  },
  {
   "cell_type": "code",
   "execution_count": 3,
   "metadata": {
    "pycharm": {
     "name": "#%%\n"
    }
   },
   "outputs": [
    {
     "data": {
      "text/plain": [
       "[1, -1]"
      ]
     },
     "execution_count": 3,
     "metadata": {},
     "output_type": "execute_result"
    }
   ],
   "source": [
    "automaton.sample()"
   ]
  },
  {
   "cell_type": "markdown",
   "metadata": {
    "pycharm": {
     "name": "#%% md\n"
    }
   },
   "source": [
    "With probability $p = 0.5$ the trace stops. Hence, The average length of the trace is:\n",
    "\n",
    "$1 + \\sum\\limits_{n=1}^{\\infty} n\\cdot p^{n-1}p = 1 + \\frac{1}{p}$\n",
    "\n",
    "Which for $p=\\frac{1}{2}$, it is $3$ ($+1$ is used to count the termination symbol)."
   ]
  },
  {
   "cell_type": "code",
   "execution_count": 4,
   "metadata": {
    "pycharm": {
     "name": "#%%\n"
    }
   },
   "outputs": [
    {
     "name": "stdout",
     "output_type": "stream",
     "text": [
      "The average length of the samples is: 10.80. Expected: 11.00.\n",
      "The average length of the samples is:  3.01. Expected:  3.00.\n",
      "The average length of the samples is:  2.11. Expected:  2.11.\n"
     ]
    }
   ],
   "source": [
    "ps = [0.1, 0.5, 0.9]\n",
    "expected_length = lambda x: 1 + 1 / x\n",
    "\n",
    "nb_samples = 10000\n",
    "for p in ps:\n",
    "    stop_probability = 1 - p\n",
    "    _automaton = make_automaton(stop_probability)\n",
    "    samples = [_automaton.sample() for _ in range(nb_samples)]\n",
    "    average_length = np.mean([len(l) for l in samples])\n",
    "    print(f\"The average length of the samples is: {average_length:5.2f}. Expected: {expected_length(p):5.2f}.\")"
   ]
  },
  {
   "cell_type": "code",
   "execution_count": null,
   "metadata": {},
   "outputs": [],
   "source": []
  }
 ],
 "metadata": {
  "kernelspec": {
   "display_name": "Python 3",
   "language": "python",
   "name": "python3"
  },
  "language_info": {
   "codemirror_mode": {
    "name": "ipython",
    "version": 3
   },
   "file_extension": ".py",
   "mimetype": "text/x-python",
   "name": "python",
   "nbconvert_exporter": "python",
   "pygments_lexer": "ipython3",
   "version": "3.7.6"
  }
 },
 "nbformat": 4,
 "nbformat_minor": 1
}
